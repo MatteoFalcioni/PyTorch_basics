{
 "cells": [
  {
   "cell_type": "markdown",
   "id": "f20d4146",
   "metadata": {},
   "source": [
    "# Introduction\n",
    "\n",
    "The purpose of these notes is to give a basic introduction to PyTorch, in order to build more complex concepts on top of these first ones.  \n",
    "Most of the content will be directly taken from the YouTube course *PyTorch for Deep Learning & Machine Learning - Full Course* available at [this link](https://www.youtube.com/watch?v=V_xro1bcAuA&t=30s)."
   ]
  },
  {
   "cell_type": "code",
   "execution_count": 10,
   "id": "fb844c5a",
   "metadata": {},
   "outputs": [],
   "source": [
    "# Example code\n",
    "\n",
    "import torch \n",
    "x = torch.tensor([1.0, 2.0])\n",
    "y = x ** 2\n"
   ]
  },
  {
   "cell_type": "markdown",
   "id": "63291df7",
   "metadata": {},
   "source": [
    "This course is strictly practical. For a more theoretical point of view, see the notes *Entropic Theory of Information*. There, you will also find implementations of more advanced Neural Network architectures.\n"
   ]
  },
  {
   "cell_type": "markdown",
   "id": "95386f0c",
   "metadata": {},
   "source": [
    "## What is PyTorch?\n",
    "\n",
    "PyTorch is an open-source library for scientific computing and machine learning, with a particular focus on deep learning. It was developed by Meta AI and has gained significant popularity in both academic research and industry due to its flexibility, performance, and ease of use.\n",
    "\n",
    "At its core, PyTorch provides a framework for working with tensors, which are generalizations of vectors and matrices to higher dimensions. These tensors form the basic data structure on which PyTorch computations are built. To this day (28/03/2025), it is the most used library by researchers, with a stunning 60% usage rate  \n",
    "(Source: [paperswithcode](https://paperswithcode.com/trends)).\n",
    "\n",
    "PyTorch allows users to perform a wide variety of numerical operations, from simple arithmetic to complex mathematical transformations, while maintaining an intuitive Pythonic interface. It is designed to be efficient on both CPUs and GPUs, enabling users to scale their computations seamlessly. Most importantly, it contains pre-built Deep Learning modules ready for use, making it an incredibly powerful tool for coding Neural Networks architectures.\n"
   ]
  },
  {
   "cell_type": "markdown",
   "id": "bba5e8ce",
   "metadata": {},
   "source": [
    "## Why PyTorch?\n",
    "\n",
    "The emergence of PyTorch came at a time when deep learning was rapidly evolving, and researchers and practitioners were in need of tools that were not only powerful, but also flexible and intuitive. Unlike earlier frameworks that emphasized performance at the cost of clarity, PyTorch was designed from the beginning to integrate seamlessly with the Python ecosystem and prioritize a clear programming model.\n",
    "\n",
    "### Key motivations for using PyTorch:\n",
    "- **Pythonic design.** PyTorch behaves like standard Python code. Control structures such as `if` statements, loops, and list comprehensions work naturally, making the code easier to read, write, and debug.\n",
    "- **Dynamic computation.** Computation graphs in PyTorch are defined at runtime. This \"define-by-run\" paradigm allows for more flexibility, especially when models need to change structure during execution (e.g. in recursive or conditional architectures).\n",
    "- **Research-first approach.** PyTorch quickly became the preferred tool in academia due to its transparency and the ease with which new ideas can be implemented and tested.\n",
    "- **Strong community and ecosystem.** Many state-of-the-art models and tools are developed in PyTorch first. Its ecosystem includes libraries for vision, text, audio, and more.\n",
    "- **Scalability and production readiness.** PyTorch has matured into a robust framework suitable for production systems. Tools like TorchScript, ONNX export, and distributed computing support allow PyTorch to scale from experimentation to deployment.\n",
    "\n",
    "In short, PyTorch offers a combination of usability, transparency, and computational power that makes it an effective tool for learning, prototyping, and building real-world machine learning systems.\n"
   ]
  },
  {
   "cell_type": "markdown",
   "id": "4ea62527",
   "metadata": {},
   "source": [
    "## PyTorch Setup\n",
    "\n",
    "If you plan to run the code presented in the next chapters **locally**, then you should install PyTorch and set it up. You can find all necessary instructions on [PyTorch's official setup page](https://pytorch.org/get-started/locally/).\n",
    "\n",
    "**Note:** You will need an Nvidia GPU in order to use Torch with CUDA (GPU support).  \n",
    "Torch can run on CPU as well, but for deep learning or memory-heavy tasks, this is often infeasible.\n",
    "\n",
    "**If you don't have an Nvidia GPU**, a great option is Google Colab. There, you can get free GPU access (within time limits), and Torch is already installed.\n"
   ]
  },
  {
   "cell_type": "markdown",
   "id": "68e3eb5c",
   "metadata": {},
   "source": [
    "You can check if your machine has an Nvidia GPU available by running the command `nvidia-smi`. The output should look like this (from Google Colab's GPU):\n",
    "```\n",
    "Fri Mar 28 16:40:15 2025       \n",
    "+-----------------------------------------------------------------------------------------+\n",
    "| NVIDIA-SMI 550.54.15              Driver Version: 550.54.15      CUDA Version: 12.4     |\n",
    "|-----------------------------------------+------------------------+----------------------|\n",
    "| GPU  Name                 Persistence-M | Bus-Id          Disp.A | Volatile Uncorr. ECC |\n",
    "| Fan  Temp   Perf          Pwr:Usage/Cap |           Memory-Usage | GPU-Util  Compute M. |\n",
    "|                                         |                        |               MIG M. |\n",
    "|=========================================+========================+======================|\n",
    "|   0  Tesla T4                       Off |   00000000:00:04.0 Off |                    0 |\n",
    "| N/A   60C    P8             10W /   70W |       0MiB /  15360MiB |      0%      Default |\n",
    "|                                         |                        |                  N/A |\n",
    "+-----------------------------------------+------------------------+----------------------+\n",
    "\n",
    "+-----------------------------------------------------------------------------------------+\n",
    "| Processes:                                                                              |\n",
    "|  GPU   GI   CI        PID   Type   Process name                              GPU Memory |\n",
    "|        ID   ID                                                               Usage      |\n",
    "|=========================================================================================|\n",
    "|  No running processes found                                                             |\n",
    "+-----------------------------------------------------------------------------------------+\n",
    "```"
   ]
  },
  {
   "cell_type": "markdown",
   "id": "381f9248",
   "metadata": {},
   "source": [
    "\n",
    "Next thing you can do to check if you installed everything properly, is to run "
   ]
  },
  {
   "cell_type": "code",
   "execution_count": 11,
   "id": "a80b04ac",
   "metadata": {},
   "outputs": [
    {
     "name": "stdout",
     "output_type": "stream",
     "text": [
      "2.3.0\n"
     ]
    }
   ],
   "source": [
    "print(torch.__version__)"
   ]
  },
  {
   "cell_type": "markdown",
   "id": "c852cc8d",
   "metadata": {},
   "source": [
    "To check what version of Torch you are using, and if you have a GPU with cudatoolkit installed you will get `2.6.0+cu124` indicating your Torch version and your *cudatoolkit* version. \n",
    "Now we are ready to start.\n"
   ]
  }
 ],
 "metadata": {
  "kernelspec": {
   "display_name": "base",
   "language": "python",
   "name": "python3"
  },
  "language_info": {
   "codemirror_mode": {
    "name": "ipython",
    "version": 3
   },
   "file_extension": ".py",
   "mimetype": "text/x-python",
   "name": "python",
   "nbconvert_exporter": "python",
   "pygments_lexer": "ipython3",
   "version": "3.12.4"
  }
 },
 "nbformat": 4,
 "nbformat_minor": 5
}
