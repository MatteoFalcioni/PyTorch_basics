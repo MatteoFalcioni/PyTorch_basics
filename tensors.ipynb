{
 "cells": [
  {
   "cell_type": "markdown",
   "id": "f8bd2834",
   "metadata": {},
   "source": [
    "# Tensors\n",
    "\n",
    "## Introduction to Tensors\n",
    "\n",
    "At the core of PyTorch lies the `Tensor` object, which serves as the fundamental data structure for all computations. Tensors are multidimensional arrays, conceptually similar to NumPy arrays, but with added capabilities tailored for deep learning and high-performance computing.\n",
    "\n",
    "PyTorch tensors support a wide variety of operations, including arithmetic, indexing, reshaping, and broadcasting. More importantly, they can be transferred seamlessly between the CPU and GPU, allowing for accelerated computation with minimal code changes.\n",
    "\n",
    "In practice, tensors represent everything from scalar values to high-dimensional data such as images, sequences, and model parameters. Understanding tensors and how to manipulate them efficiently is essential for working with PyTorch and developing neural network models.\n",
    "\n",
    "PyTorch tensors are created using [`torch.tensor`](https://pytorch.org/docs/stable/tensors.html). For example, we may create the simplest tensor – a scalar – in the following way:\n"
   ]
  },
  {
   "cell_type": "code",
   "execution_count": 69,
   "id": "18602581",
   "metadata": {},
   "outputs": [
    {
     "data": {
      "text/plain": [
       "tensor(2)"
      ]
     },
     "execution_count": 69,
     "metadata": {},
     "output_type": "execute_result"
    }
   ],
   "source": [
    "import torch\n",
    "# scalar\n",
    "scalar = torch.tensor(2)\n",
    "scalar"
   ]
  },
  {
   "cell_type": "markdown",
   "id": "5b431478",
   "metadata": {},
   "source": [
    "A scalar is a $0$-dimensional tensor. As a matter of fact, we can check its dimension with `ndim`"
   ]
  },
  {
   "cell_type": "code",
   "execution_count": 70,
   "id": "e539cbae",
   "metadata": {},
   "outputs": [
    {
     "data": {
      "text/plain": [
       "0"
      ]
     },
     "execution_count": 70,
     "metadata": {},
     "output_type": "execute_result"
    }
   ],
   "source": [
    "scalar.ndim\n"
   ]
  },
  {
   "cell_type": "markdown",
   "id": "124c2e7c",
   "metadata": {},
   "source": [
    "To access the value of a tensor, we must use the `item()` method: "
   ]
  },
  {
   "cell_type": "code",
   "execution_count": 71,
   "id": "7fd344d7",
   "metadata": {},
   "outputs": [
    {
     "data": {
      "text/plain": [
       "2"
      ]
     },
     "execution_count": 71,
     "metadata": {},
     "output_type": "execute_result"
    }
   ],
   "source": [
    "scalar.item()"
   ]
  },
  {
   "cell_type": "markdown",
   "id": "9e600979",
   "metadata": {},
   "source": [
    "The next structure is just a vector, i.e. a tensor of dimension $2$. We can create it using the torch.tensor() constructor from a simple python list:"
   ]
  },
  {
   "cell_type": "code",
   "execution_count": 72,
   "id": "1909dd9f",
   "metadata": {},
   "outputs": [
    {
     "data": {
      "text/plain": [
       "tensor([2, 7])"
      ]
     },
     "execution_count": 72,
     "metadata": {},
     "output_type": "execute_result"
    }
   ],
   "source": [
    "# vector\n",
    "vector = torch.tensor([2, 7])\n",
    "vector"
   ]
  },
  {
   "cell_type": "markdown",
   "id": "f6b1d1a0",
   "metadata": {},
   "source": [
    "Note: be careful using `tensor()` instead of `Tensor()`. The latter is a lower-level class constructor. When given shape arguments (e.g., `torch.Tensor(2, 3)`), it creates an *uninitialized* tensor. This can lead to unintended behavior. So, always use `torch.tensor()` when starting from data.\n"
   ]
  },
  {
   "cell_type": "markdown",
   "id": "d7da9f98",
   "metadata": {},
   "source": [
    "Now, tensors' dimensions and their shapes are very important in PyTorch. When manipulating vectors, we must pay close attention to their shapes, or we may run into errors or miscalculations.\n"
   ]
  },
  {
   "cell_type": "code",
   "execution_count": 73,
   "id": "e3f731ba",
   "metadata": {},
   "outputs": [
    {
     "data": {
      "text/plain": [
       "1"
      ]
     },
     "execution_count": 73,
     "metadata": {},
     "output_type": "execute_result"
    }
   ],
   "source": [
    "vector.ndim\n"
   ]
  },
  {
   "cell_type": "markdown",
   "id": "d2b8257a",
   "metadata": {},
   "source": [
    "This is different from vector.shape:"
   ]
  },
  {
   "cell_type": "code",
   "execution_count": 74,
   "id": "b9486433",
   "metadata": {},
   "outputs": [
    {
     "data": {
      "text/plain": [
       "torch.Size([2])"
      ]
     },
     "execution_count": 74,
     "metadata": {},
     "output_type": "execute_result"
    }
   ],
   "source": [
    "vector.shape\n"
   ]
  },
  {
   "cell_type": "markdown",
   "id": "f7e8b565",
   "metadata": {},
   "source": [
    "We can step things up and create a matrix:"
   ]
  },
  {
   "cell_type": "code",
   "execution_count": 75,
   "id": "286c2846",
   "metadata": {},
   "outputs": [
    {
     "data": {
      "text/plain": [
       "tensor([[1, 2],\n",
       "        [7, 8]])"
      ]
     },
     "execution_count": 75,
     "metadata": {},
     "output_type": "execute_result"
    }
   ],
   "source": [
    "matrix = torch.tensor([[1, 2], [7, 8]])\n",
    "matrix"
   ]
  },
  {
   "cell_type": "code",
   "execution_count": 76,
   "id": "9d80c870",
   "metadata": {},
   "outputs": [
    {
     "name": "stdout",
     "output_type": "stream",
     "text": [
      "matrix dims: 2\n",
      "matrix shape: torch.Size([2, 2])\n"
     ]
    }
   ],
   "source": [
    "print(f\"matrix dims: {matrix.ndim}\")\n",
    "print(f\"matrix shape: {matrix.shape}\")\n"
   ]
  },
  {
   "cell_type": "markdown",
   "id": "fb50f56e",
   "metadata": {},
   "source": [
    "This tells us that our matrix is 2-dimensional, and in fact it's a 2×2 square matrix. How about a rectangular matrix? Very simple:\n",
    "<!--  -->"
   ]
  },
  {
   "cell_type": "code",
   "execution_count": 77,
   "id": "1d20b739",
   "metadata": {},
   "outputs": [
    {
     "name": "stdout",
     "output_type": "stream",
     "text": [
      "matrix dims: 2\n",
      "matrix shape: torch.Size([3, 2])\n"
     ]
    }
   ],
   "source": [
    "rect_matrix = torch.tensor([[1, 2], [3, 4], [4, 5]])\n",
    "print(f\"matrix dims: {rect_matrix.ndim}\")\n",
    "print(f\"matrix shape: {rect_matrix.shape}\")\n"
   ]
  },
  {
   "cell_type": "markdown",
   "id": "53dfd227",
   "metadata": {},
   "source": [
    "Since we have $2$ elements along each axes, and it's a $3\\times2$ matrix.  \n",
    "Let's see how it works with tensors:"
   ]
  },
  {
   "cell_type": "code",
   "execution_count": 78,
   "id": "8e78d97f",
   "metadata": {},
   "outputs": [
    {
     "data": {
      "text/plain": [
       "tensor([[[1, 2, 3],\n",
       "         [3, 6, 9],\n",
       "         [2, 4, 5],\n",
       "         [6, 7, 8]]])"
      ]
     },
     "execution_count": 78,
     "metadata": {},
     "output_type": "execute_result"
    }
   ],
   "source": [
    "# TENSOR\n",
    "TENSOR = torch.tensor([[[1, 2, 3],\n",
    "                        [3, 6, 9],\n",
    "                        [2, 4, 5],\n",
    "                        [6, 7, 8]]])\n",
    "TENSOR\n"
   ]
  },
  {
   "cell_type": "code",
   "execution_count": 79,
   "id": "4c90cef9",
   "metadata": {},
   "outputs": [
    {
     "name": "stdout",
     "output_type": "stream",
     "text": [
      "Tensor dim: 3\n"
     ]
    }
   ],
   "source": [
    "print(f\"Tensor dim: {TENSOR.ndim}\")\n"
   ]
  },
  {
   "cell_type": "code",
   "execution_count": 80,
   "id": "64d4e967",
   "metadata": {},
   "outputs": [
    {
     "name": "stdout",
     "output_type": "stream",
     "text": [
      "Tensor shape: torch.Size([1, 4, 3])\n"
     ]
    }
   ],
   "source": [
    "print(f\"Tensor shape: {TENSOR.shape}\")\n"
   ]
  },
  {
   "cell_type": "markdown",
   "id": "ff56c5e0",
   "metadata": {},
   "source": [
    "Why this shape? We can think of tensors as multidimensional matrices. In this case, we have 1 matrix containing 4 vectors of dimension 3.\n",
    "\n",
    "Understanding shapes takes some practice, but once you get used to it, it becomes second nature."
   ]
  },
  {
   "cell_type": "markdown",
   "id": "45fa0e38",
   "metadata": {},
   "source": [
    "This represents 2 images, each of size 3×3 pixels, with 3 channels (RGB).\n"
   ]
  },
  {
   "cell_type": "markdown",
   "id": "83790a27",
   "metadata": {},
   "source": [
    "## Random Tensors\n",
    "\n",
    "Random tensors are very important in PyTorch's workflows. The reason is the way Neural Networks work. They start from randomly initialized weights, and they adapt these values through training (by minimizing a Loss function). So the first step is always to intialize weights randomly. "
   ]
  },
  {
   "cell_type": "markdown",
   "id": "b34775a6",
   "metadata": {},
   "source": [
    "In order to create random tensors we can use Torch's [torch.rand()](https://docs.pytorch.org/docs/main/generated/torch.rand.html). "
   ]
  },
  {
   "cell_type": "code",
   "execution_count": 81,
   "id": "2622a90b",
   "metadata": {},
   "outputs": [
    {
     "name": "stdout",
     "output_type": "stream",
     "text": [
      "random tensor dimension: 2\n",
      "random tensor shape: torch.Size([3, 4])\n"
     ]
    }
   ],
   "source": [
    "random_tensor = torch.rand(3,4)\n",
    "random_tensor\n",
    "print(f\"random tensor dimension: {random_tensor.ndim}\") # dims will be 2\n",
    "print(f\"random tensor shape: {random_tensor.shape}\") # shape will be torch.Size([3,4])"
   ]
  },
  {
   "cell_type": "markdown",
   "id": "29b2f7cc",
   "metadata": {},
   "source": [
    "A common example of tensor encoding is when we want to encode an image. Usually to encode an image we use a tensor of shapes `[colour_channels, height, width]`. For an RGB image of size `224 x 224`we will use something like this:"
   ]
  },
  {
   "cell_type": "markdown",
   "id": "f2671288",
   "metadata": {},
   "source": [
    "![Example of encoding an RGB image](imgs/00-tensor-shape-example-of-image.png)"
   ]
  },
  {
   "cell_type": "markdown",
   "id": "287f1baf",
   "metadata": {},
   "source": [
    "## 0's and 1's Tensors\n",
    "These are useful for creating masks.\n"
   ]
  },
  {
   "cell_type": "code",
   "execution_count": 82,
   "id": "04ad6985",
   "metadata": {},
   "outputs": [
    {
     "data": {
      "text/plain": [
       "tensor([[0., 0., 0., 0.],\n",
       "        [0., 0., 0., 0.],\n",
       "        [0., 0., 0., 0.]])"
      ]
     },
     "execution_count": 82,
     "metadata": {},
     "output_type": "execute_result"
    }
   ],
   "source": [
    "# create a tensor of all zeros\n",
    "zeros = torch.zeros(3,4)\n",
    "zeros"
   ]
  },
  {
   "cell_type": "code",
   "execution_count": 83,
   "id": "06ece2e9",
   "metadata": {},
   "outputs": [
    {
     "data": {
      "text/plain": [
       "tensor([[1., 1., 1., 1.],\n",
       "        [1., 1., 1., 1.],\n",
       "        [1., 1., 1., 1.]])"
      ]
     },
     "execution_count": 83,
     "metadata": {},
     "output_type": "execute_result"
    }
   ],
   "source": [
    "# create a tensor of all zeros\n",
    "ones = torch.ones(3,4)\n",
    "ones"
   ]
  },
  {
   "cell_type": "markdown",
   "id": "81a2096f",
   "metadata": {},
   "source": [
    "Note: when you let Torch automatically create a tensor, its default type is `torch.float32`. To get the type we can use the `.dtype` argument. We will see more about types in the future."
   ]
  },
  {
   "cell_type": "code",
   "execution_count": 84,
   "id": "ac44c974",
   "metadata": {},
   "outputs": [
    {
     "data": {
      "text/plain": [
       "torch.float32"
      ]
     },
     "execution_count": 84,
     "metadata": {},
     "output_type": "execute_result"
    }
   ],
   "source": [
    "ones.dtype"
   ]
  },
  {
   "cell_type": "markdown",
   "id": "9dfd8684",
   "metadata": {},
   "source": [
    "## Creating range of tensors & tensors-like"
   ]
  },
  {
   "cell_type": "code",
   "execution_count": 85,
   "id": "5e880321",
   "metadata": {},
   "outputs": [
    {
     "data": {
      "text/plain": [
       "tensor([ 1,  2,  3,  4,  5,  6,  7,  8,  9, 10])"
      ]
     },
     "execution_count": 85,
     "metadata": {},
     "output_type": "execute_result"
    }
   ],
   "source": [
    "# use torch.range()\n",
    "one_to_Ten = torch.arange(1,11)\n",
    "one_to_Ten"
   ]
  },
  {
   "cell_type": "markdown",
   "id": "66d91e3f",
   "metadata": {},
   "source": [
    "Basically its parameters are start, end (ends at end-1) and steps. by default the step is $1$ but we can modify it:"
   ]
  },
  {
   "cell_type": "code",
   "execution_count": 86,
   "id": "9dc1eafd",
   "metadata": {},
   "outputs": [
    {
     "data": {
      "text/plain": [
       "tensor([ 0,  2,  4,  6,  8, 10, 12, 14, 16, 18, 20, 22, 24, 26, 28, 30, 32, 34,\n",
       "        36, 38, 40, 42, 44, 46, 48, 50, 52, 54, 56, 58, 60, 62, 64, 66, 68, 70,\n",
       "        72, 74, 76, 78, 80, 82, 84, 86, 88, 90, 92, 94, 96, 98])"
      ]
     },
     "execution_count": 86,
     "metadata": {},
     "output_type": "execute_result"
    }
   ],
   "source": [
    "zero_to_hundred = torch.arange(start=0, end=100, step=2)\n",
    "zero_to_hundred"
   ]
  },
  {
   "cell_type": "markdown",
   "id": "ecfad46c",
   "metadata": {},
   "source": [
    "Another useful method is the `_like()` method. For example, `zeros_like()`  allows us to create a tensor with the shape of another already existing tensor, all filled with zeros. There are many options, you can fill it with chosen values (`torch.full_like()`) , with random numbers (`torch.rand_like()`), and so on.  "
   ]
  },
  {
   "cell_type": "code",
   "execution_count": 87,
   "id": "21a96f56",
   "metadata": {},
   "outputs": [
    {
     "data": {
      "text/plain": [
       "tensor([0, 0, 0, 0, 0, 0, 0, 0, 0, 0])"
      ]
     },
     "execution_count": 87,
     "metadata": {},
     "output_type": "execute_result"
    }
   ],
   "source": [
    "ten_zeros = torch.zeros_like(one_to_Ten)\n",
    "ten_zeros"
   ]
  },
  {
   "cell_type": "markdown",
   "id": "11b60249",
   "metadata": {},
   "source": [
    "## Tensor datatypes\n",
    "\n",
    "The standard type is float32, but we can change it of course by explicitly setting it. See [torch.dtype](https://docs.pytorch.org/docs/stable/tensor_attributes.html#torch-dtype)."
   ]
  },
  {
   "cell_type": "code",
   "execution_count": 88,
   "id": "cbf9d149",
   "metadata": {},
   "outputs": [
    {
     "data": {
      "text/plain": [
       "tensor([[0.3513, 0.6349, 0.8420, 0.9925, 0.9101, 0.7914],\n",
       "        [0.1295, 0.1268, 0.9806, 0.1038, 0.3814, 0.0941]])"
      ]
     },
     "execution_count": 88,
     "metadata": {},
     "output_type": "execute_result"
    }
   ],
   "source": [
    "# Float 32 tensor\n",
    "float_32_tensor = torch.rand(2 ,6)\n",
    "float_32_tensor"
   ]
  },
  {
   "cell_type": "code",
   "execution_count": 89,
   "id": "9c872521",
   "metadata": {},
   "outputs": [
    {
     "data": {
      "text/plain": [
       "torch.float32"
      ]
     },
     "execution_count": 89,
     "metadata": {},
     "output_type": "execute_result"
    }
   ],
   "source": [
    "float_32_tensor.dtype"
   ]
  },
  {
   "cell_type": "code",
   "execution_count": 90,
   "id": "92525e01",
   "metadata": {},
   "outputs": [
    {
     "data": {
      "text/plain": [
       "torch.float16"
      ]
     },
     "execution_count": 90,
     "metadata": {},
     "output_type": "execute_result"
    }
   ],
   "source": [
    "# Float 16 tensor\n",
    "float_16_tensor = torch.rand((2 ,6), dtype=torch.float16)\n",
    "float_16_tensor.dtype"
   ]
  },
  {
   "cell_type": "markdown",
   "id": "5c97a714",
   "metadata": {},
   "source": [
    "Or, if you are creating a tensor from scratch, you can specify it in the same way"
   ]
  },
  {
   "cell_type": "code",
   "execution_count": 91,
   "id": "fe5c56ce",
   "metadata": {},
   "outputs": [
    {
     "data": {
      "text/plain": [
       "tensor([ 3.,  6.,  9., 10.], dtype=torch.float16)"
      ]
     },
     "execution_count": 91,
     "metadata": {},
     "output_type": "execute_result"
    }
   ],
   "source": [
    "data = [3, 6, 9, 10]\n",
    "tensor = torch.tensor(data, dtype=torch.float16)\n",
    "tensor "
   ]
  },
  {
   "cell_type": "markdown",
   "id": "58a3f8e1",
   "metadata": {},
   "source": [
    "The higher the precision value (8, 16, 32), the more detail and hence data used to express a number.\n",
    "\n",
    "This matters in deep learning and numerical computing because you're making so many operations, the more detail you have to calculate on, the more compute you have to use.\n",
    "\n",
    "So lower precision datatypes are generally faster to compute on but sacrifice some performance on evaluation metrics like accuracy (faster to compute but less accurate).\n",
    "\n"
   ]
  },
  {
   "cell_type": "markdown",
   "id": "a51ff7fb",
   "metadata": {},
   "source": [
    "`.dtype` is one of the three main arguments in the `tensor()` class. The other two are just as important - if not more - and we will see more about them later on. They are the `device` argument, which specify on which device (cpu or gpu) our machine should create our tensor, and `requires_grad`, which specifies if we should keep track of operations performed on our tensor in order to perform backpropagation. "
   ]
  },
  {
   "cell_type": "code",
   "execution_count": null,
   "id": "1334ef97",
   "metadata": {},
   "outputs": [
    {
     "data": {
      "text/plain": [
       "(torch.float32, device(type='cpu'), False)"
      ]
     },
     "execution_count": 94,
     "metadata": {},
     "output_type": "execute_result"
    }
   ],
   "source": [
    "# Default datatype for tensors is float32\n",
    "float_32_tensor = torch.tensor([3.0, 6.0, 9.0],\n",
    "                               dtype=None, # What dataype is the tensor, defaults to torch.float32 (even if it's set to None)\n",
    "                               device='cpu', # What device is your tensor on\n",
    "                               requires_grad=False) # whether or not to track gradients for backpropagation (default False if not wrapped in nn.Parameter)\n",
    "\n",
    "float_32_tensor.dtype, float_32_tensor.device, float_32_tensor.requires_grad"
   ]
  }
 ],
 "metadata": {
  "kernelspec": {
   "display_name": "base",
   "language": "python",
   "name": "python3"
  },
  "language_info": {
   "codemirror_mode": {
    "name": "ipython",
    "version": 3
   },
   "file_extension": ".py",
   "mimetype": "text/x-python",
   "name": "python",
   "nbconvert_exporter": "python",
   "pygments_lexer": "ipython3",
   "version": "3.12.4"
  }
 },
 "nbformat": 4,
 "nbformat_minor": 5
}
