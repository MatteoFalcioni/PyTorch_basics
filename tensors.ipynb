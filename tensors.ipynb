{
 "cells": [
  {
   "cell_type": "markdown",
   "id": "f8bd2834",
   "metadata": {},
   "source": [
    "# Tensors\n",
    "\n",
    "## Introduction to Tensors\n",
    "\n",
    "At the core of PyTorch lies the `Tensor` object, which serves as the fundamental data structure for all computations. Tensors are multidimensional arrays, conceptually similar to NumPy arrays, but with added capabilities tailored for deep learning and high-performance computing.\n",
    "\n",
    "PyTorch tensors support a wide variety of operations, including arithmetic, indexing, reshaping, and broadcasting. More importantly, they can be transferred seamlessly between the CPU and GPU, allowing for accelerated computation with minimal code changes.\n",
    "\n",
    "In practice, tensors represent everything from scalar values to high-dimensional data such as images, sequences, and model parameters. Understanding tensors and how to manipulate them efficiently is essential for working with PyTorch and developing neural network models.\n",
    "\n",
    "PyTorch tensors are created using [`torch.tensor`](https://pytorch.org/docs/stable/tensors.html). For example, we may create the simplest tensor – a scalar – in the following way:\n"
   ]
  },
  {
   "cell_type": "code",
   "execution_count": 1,
   "id": "18602581",
   "metadata": {},
   "outputs": [
    {
     "data": {
      "text/plain": [
       "tensor(2)"
      ]
     },
     "execution_count": 1,
     "metadata": {},
     "output_type": "execute_result"
    }
   ],
   "source": [
    "import torch\n",
    "# scalar\n",
    "scalar = torch.tensor(2)\n",
    "scalar"
   ]
  },
  {
   "cell_type": "markdown",
   "id": "5b431478",
   "metadata": {},
   "source": [
    "A scalar is a $0$-dimensional tensor. As a matter of fact, we can check its dimension with `ndim`"
   ]
  },
  {
   "cell_type": "code",
   "execution_count": 2,
   "id": "e539cbae",
   "metadata": {},
   "outputs": [
    {
     "data": {
      "text/plain": [
       "0"
      ]
     },
     "execution_count": 2,
     "metadata": {},
     "output_type": "execute_result"
    }
   ],
   "source": [
    "scalar.ndim\n"
   ]
  },
  {
   "cell_type": "markdown",
   "id": "124c2e7c",
   "metadata": {},
   "source": [
    "To access the value of a tensor, we must use the `item()` method: "
   ]
  },
  {
   "cell_type": "code",
   "execution_count": 3,
   "id": "7fd344d7",
   "metadata": {},
   "outputs": [
    {
     "data": {
      "text/plain": [
       "2"
      ]
     },
     "execution_count": 3,
     "metadata": {},
     "output_type": "execute_result"
    }
   ],
   "source": [
    "scalar.item()"
   ]
  },
  {
   "cell_type": "markdown",
   "id": "9e600979",
   "metadata": {},
   "source": [
    "The next structure is just a vector, i.e. a tensor of dimension $2$. We can create it using the torch.tensor() constructor from a simple python list:"
   ]
  },
  {
   "cell_type": "code",
   "execution_count": 4,
   "id": "1909dd9f",
   "metadata": {},
   "outputs": [
    {
     "data": {
      "text/plain": [
       "tensor([2, 7])"
      ]
     },
     "execution_count": 4,
     "metadata": {},
     "output_type": "execute_result"
    }
   ],
   "source": [
    "# vector\n",
    "vector = torch.tensor([2, 7])\n",
    "vector"
   ]
  },
  {
   "cell_type": "markdown",
   "id": "f6b1d1a0",
   "metadata": {},
   "source": [
    "Note: be careful using `tensor()` instead of `Tensor()`. The latter is a lower-level class constructor. When given shape arguments (e.g., `torch.Tensor(2, 3)`), it creates an *uninitialized* tensor. This can lead to unintended behavior. So, always use `torch.tensor()` when starting from data.\n"
   ]
  },
  {
   "cell_type": "markdown",
   "id": "d7da9f98",
   "metadata": {},
   "source": [
    "Now, tensors' dimensions and their shapes are very important in PyTorch. When manipulating vectors, we must pay close attention to their shapes, or we may run into errors or miscalculations.\n"
   ]
  },
  {
   "cell_type": "code",
   "execution_count": 5,
   "id": "e3f731ba",
   "metadata": {},
   "outputs": [
    {
     "data": {
      "text/plain": [
       "1"
      ]
     },
     "execution_count": 5,
     "metadata": {},
     "output_type": "execute_result"
    }
   ],
   "source": [
    "vector.ndim\n"
   ]
  },
  {
   "cell_type": "markdown",
   "id": "d2b8257a",
   "metadata": {},
   "source": [
    "This is different from vector.shape:"
   ]
  },
  {
   "cell_type": "code",
   "execution_count": 6,
   "id": "b9486433",
   "metadata": {},
   "outputs": [
    {
     "data": {
      "text/plain": [
       "torch.Size([2])"
      ]
     },
     "execution_count": 6,
     "metadata": {},
     "output_type": "execute_result"
    }
   ],
   "source": [
    "vector.shape\n"
   ]
  },
  {
   "cell_type": "markdown",
   "id": "f7e8b565",
   "metadata": {},
   "source": [
    "We can step things up and create a matrix:"
   ]
  },
  {
   "cell_type": "code",
   "execution_count": 7,
   "id": "286c2846",
   "metadata": {},
   "outputs": [
    {
     "data": {
      "text/plain": [
       "tensor([[1, 2],\n",
       "        [7, 8]])"
      ]
     },
     "execution_count": 7,
     "metadata": {},
     "output_type": "execute_result"
    }
   ],
   "source": [
    "matrix = torch.tensor([[1, 2], [7, 8]])\n",
    "matrix"
   ]
  },
  {
   "cell_type": "code",
   "execution_count": 8,
   "id": "9d80c870",
   "metadata": {},
   "outputs": [
    {
     "name": "stdout",
     "output_type": "stream",
     "text": [
      "matrix dims: 2\n",
      "matrix shape: torch.Size([2, 2])\n"
     ]
    }
   ],
   "source": [
    "print(f\"matrix dims: {matrix.ndim}\")\n",
    "print(f\"matrix shape: {matrix.shape}\")\n"
   ]
  },
  {
   "cell_type": "markdown",
   "id": "fb50f56e",
   "metadata": {},
   "source": [
    "This tells us that our matrix is 2-dimensional, and in fact it's a 2×2 square matrix. How about a rectangular matrix? Very simple:\n",
    "<!--  -->"
   ]
  },
  {
   "cell_type": "code",
   "execution_count": 9,
   "id": "1d20b739",
   "metadata": {},
   "outputs": [
    {
     "name": "stdout",
     "output_type": "stream",
     "text": [
      "matrix dims: 2\n",
      "matrix shape: torch.Size([3, 2])\n"
     ]
    }
   ],
   "source": [
    "rect_matrix = torch.tensor([[1, 2], [3, 4], [4, 5]])\n",
    "print(f\"matrix dims: {rect_matrix.ndim}\")\n",
    "print(f\"matrix shape: {rect_matrix.shape}\")\n"
   ]
  },
  {
   "cell_type": "markdown",
   "id": "53dfd227",
   "metadata": {},
   "source": [
    "Since we have $2$ elements along each axes, and it's a $3\\times2$ matrix.  \n",
    "Let's see how it works with tensors:"
   ]
  },
  {
   "cell_type": "code",
   "execution_count": 10,
   "id": "8e78d97f",
   "metadata": {},
   "outputs": [
    {
     "data": {
      "text/plain": [
       "tensor([[[1, 2, 3],\n",
       "         [3, 6, 9],\n",
       "         [2, 4, 5],\n",
       "         [6, 7, 8]]])"
      ]
     },
     "execution_count": 10,
     "metadata": {},
     "output_type": "execute_result"
    }
   ],
   "source": [
    "# TENSOR\n",
    "TENSOR = torch.tensor([[[1, 2, 3],\n",
    "                        [3, 6, 9],\n",
    "                        [2, 4, 5],\n",
    "                        [6, 7, 8]]])\n",
    "TENSOR\n"
   ]
  },
  {
   "cell_type": "code",
   "execution_count": 11,
   "id": "4c90cef9",
   "metadata": {},
   "outputs": [
    {
     "name": "stdout",
     "output_type": "stream",
     "text": [
      "Tensor dim: 3\n"
     ]
    }
   ],
   "source": [
    "print(f\"Tensor dim: {TENSOR.ndim}\")\n"
   ]
  },
  {
   "cell_type": "code",
   "execution_count": 12,
   "id": "64d4e967",
   "metadata": {},
   "outputs": [
    {
     "name": "stdout",
     "output_type": "stream",
     "text": [
      "Tensor shape: torch.Size([1, 4, 3])\n"
     ]
    }
   ],
   "source": [
    "print(f\"Tensor shape: {TENSOR.shape}\")\n"
   ]
  },
  {
   "cell_type": "markdown",
   "id": "ff56c5e0",
   "metadata": {},
   "source": [
    "Why this shape? We can think of tensors as multidimensional matrices. In this case, we have 1 matrix containing 4 vectors of dimension 3.\n",
    "\n",
    "Understanding shapes takes some practice, but once you get used to it, it becomes second nature.\n",
    "\n",
    "Let's clarify with one last example: let's say we want to feed our network RGB images. We usually encode the image data as tensors:\n"
   ]
  },
  {
   "cell_type": "code",
   "execution_count": 13,
   "id": "8d719d1b",
   "metadata": {},
   "outputs": [],
   "source": [
    "x = torch.tensor([\n",
    "    [  # First image\n",
    "        [[1, 2, 3], [4, 5, 6], [7, 8, 9]],     # Red channel\n",
    "        [[10, 11, 12], [13, 14, 15], [16, 17, 18]],  # Green channel\n",
    "        [[19, 20, 21], [22, 23, 24], [25, 26, 27]]   # Blue channel\n",
    "    ],\n",
    "    [  # Second image\n",
    "        [[28, 29, 30], [31, 32, 33], [34, 35, 36]],\n",
    "        [[37, 38, 39], [40, 41, 42], [43, 44, 45]],\n",
    "        [[46, 47, 48], [49, 50, 51], [52, 53, 54]]\n",
    "    ]\n",
    "])\n"
   ]
  },
  {
   "cell_type": "markdown",
   "id": "45fa0e38",
   "metadata": {},
   "source": [
    "This represents 2 images, each of size 3×3 pixels, with 3 channels (RGB).\n"
   ]
  },
  {
   "cell_type": "markdown",
   "id": "83790a27",
   "metadata": {},
   "source": [
    "## Random Tensors"
   ]
  }
 ],
 "metadata": {
  "kernelspec": {
   "display_name": "base",
   "language": "python",
   "name": "python3"
  },
  "language_info": {
   "codemirror_mode": {
    "name": "ipython",
    "version": 3
   },
   "file_extension": ".py",
   "mimetype": "text/x-python",
   "name": "python",
   "nbconvert_exporter": "python",
   "pygments_lexer": "ipython3",
   "version": "3.12.4"
  }
 },
 "nbformat": 4,
 "nbformat_minor": 5
}
