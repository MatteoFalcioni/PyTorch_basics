{
  "cells": [
    {
      "cell_type": "markdown",
      "source": [
        "# PyTorch Workflow\n",
        "\n",
        "Machine learning is all about finding patterns in data - and using those patterns to make predictions. Deep learning, with tools like neural networks, takes this idea further by tackling problems that are too complex for traditional algorithms.\n",
        "\n",
        "Below you can find an example of PyTorch Workflow. We are going to cover all these points in the next part of the course."
      ],
      "metadata": {
        "id": "u_we3MJqANgf"
      }
    },
    {
      "cell_type": "markdown",
      "source": [
        "![Example of encoding an RGB image](https://github.com/MatteoFalcioni/PyTorch_basics/blob/main/imgs/01_a_pytorch_workflow.png?raw=1)"
      ],
      "metadata": {
        "id": "RDnlX4cK-Qbo"
      }
    },
    {
      "cell_type": "markdown",
      "source": [
        "We will be heavily using the [`torch.nn`](https://docs.pytorch.org/docs/stable/nn.html#module-torch.nn) module in this section."
      ],
      "metadata": {
        "id": "6Vx7Ct7qAbQE"
      }
    },
    {
      "cell_type": "code",
      "source": [
        "import torch\n",
        "from torch import nn\n",
        "import matplotlib.pyplot as plt\n",
        "\n",
        "torch.__version__"
      ],
      "metadata": {
        "colab": {
          "base_uri": "https://localhost:8080/",
          "height": 36
        },
        "id": "ph1MLI3dEpx2",
        "outputId": "a2e2777e-824e-4ce2-b2c4-689b7547437a"
      },
      "execution_count": 2,
      "outputs": [
        {
          "output_type": "execute_result",
          "data": {
            "text/plain": [
              "'2.6.0+cu124'"
            ],
            "application/vnd.google.colaboratory.intrinsic+json": {
              "type": "string"
            }
          },
          "metadata": {},
          "execution_count": 2
        }
      ]
    },
    {
      "cell_type": "markdown",
      "source": [
        "## 1. Data (Preparing and Loading)"
      ],
      "metadata": {
        "id": "lye8naB-FLPq"
      }
    },
    {
      "cell_type": "markdown",
      "source": [
        "Machine learning is a game of two parts:\n",
        "\n",
        "Turn your data, whatever it is, into numbers (a representation).\n",
        "Pick or build a model to learn the representation as best as possible.\n",
        "Sometimes one and two can be done at the same time.\n",
        "\n",
        "But what if you don't have data?\n",
        "\n",
        "Well, that's where we're at now.\n",
        "\n",
        "No data.\n",
        "\n",
        "But we can create some.\n",
        "\n",
        "Let's create our data as a straight line."
      ],
      "metadata": {
        "id": "Lwr4LJ5rFQ3O"
      }
    },
    {
      "cell_type": "markdown",
      "source": [
        "We'll use linear regression to create the data with known parameters (things that can be learned by a model) and then we'll use PyTorch to see if we can build model to estimate these parameters using gradient descent."
      ],
      "metadata": {
        "id": "qIBL6-auFcHY"
      }
    },
    {
      "cell_type": "code",
      "source": [
        "# Create *known* parameters\n",
        "weight = 0.7\n",
        "bias = 0.3\n",
        "\n",
        "# Create data\n",
        "start = 0\n",
        "end = 1\n",
        "step = 0.02\n",
        "X = torch.arange(start, end, step).unsqueeze(dim=1) # unsqueeze needed later on\n",
        "y = weight * X + bias\n",
        "\n",
        "X[:10], y[:10], len(X), X.shape"
      ],
      "metadata": {
        "colab": {
          "base_uri": "https://localhost:8080/"
        },
        "id": "2omCPfyCFeo9",
        "outputId": "0bbb12d9-87f2-4f7a-f624-32c1d37ea1d5"
      },
      "execution_count": 6,
      "outputs": [
        {
          "output_type": "execute_result",
          "data": {
            "text/plain": [
              "(tensor([[0.0000],\n",
              "         [0.0200],\n",
              "         [0.0400],\n",
              "         [0.0600],\n",
              "         [0.0800],\n",
              "         [0.1000],\n",
              "         [0.1200],\n",
              "         [0.1400],\n",
              "         [0.1600],\n",
              "         [0.1800]]),\n",
              " tensor([[0.3000],\n",
              "         [0.3140],\n",
              "         [0.3280],\n",
              "         [0.3420],\n",
              "         [0.3560],\n",
              "         [0.3700],\n",
              "         [0.3840],\n",
              "         [0.3980],\n",
              "         [0.4120],\n",
              "         [0.4260]]),\n",
              " 50,\n",
              " torch.Size([50, 1]))"
            ]
          },
          "metadata": {},
          "execution_count": 6
        }
      ]
    },
    {
      "cell_type": "markdown",
      "source": [
        "Now we're going to move towards building a model that can learn the relationship between `X` (features) and `y` (labels)."
      ],
      "metadata": {
        "id": "ZYIej2xfFnvn"
      }
    },
    {
      "cell_type": "markdown",
      "source": [
        "### Split Data Into Training and Test"
      ],
      "metadata": {
        "id": "0uTY0g0rFhwO"
      }
    },
    {
      "cell_type": "markdown",
      "source": [
        "We've got some data.\n",
        "\n",
        "But before we build a model we need to split it up.\n",
        "\n",
        "One of most important steps in a machine learning project is creating a training and test set (and when required, a validation set).\n",
        "\n",
        "Each split of the dataset serves a specific purpose:"
      ],
      "metadata": {
        "id": "gXEyjVPMF1mO"
      }
    },
    {
      "cell_type": "markdown",
      "source": [
        "| **Split**         | **Purpose**                                                            | **Proportion of Total Data** |\n",
        "|-------------------|------------------------------------------------------------------------|-------------------------------|\n",
        "| **Training set**   | Used to train the model by allowing it to learn underlying patterns.    | ~60–80%                       |\n",
        "| **Validation set** | Used to fine-tune model parameters and monitor performance during development. | ~10–20%                       |\n",
        "| **Testing set**    | Used to evaluate the model’s final performance on unseen data.         | ~10–20%                       |\n"
      ],
      "metadata": {
        "id": "1pvzPXeaGSJn"
      }
    },
    {
      "cell_type": "markdown",
      "source": [
        "For now, we'll just use a training and test set, this means we'll have a dataset for our model to learn on as well as be evaluated on.\n",
        "\n",
        "We can create them by splitting our `X` and `y` tensors"
      ],
      "metadata": {
        "id": "0wprqIgmGRx-"
      }
    },
    {
      "cell_type": "markdown",
      "source": [
        "> **Note:** When dealing with real-world data, this step is typically done right at the start of a project (the test set should always be kept separate from all other data). We want our model to learn from training data and then evaluate it on test data to get an indication of how well it **generalizes** to unseen examples."
      ],
      "metadata": {
        "id": "VtANmVntGn-v"
      }
    },
    {
      "cell_type": "code",
      "source": [
        "# Create train/test split\n",
        "\n",
        "train_split = int( 0.8 * len(X) )\n",
        "\n",
        "X_train, y_train = X[:train_split], y[:train_split]\n",
        "X_test, y_test = X[train_split:], y[train_split:]\n",
        "\n",
        "len(X_train), len(y_train), len(X_test), len(y_test)"
      ],
      "metadata": {
        "colab": {
          "base_uri": "https://localhost:8080/"
        },
        "id": "vD1mS3L9GwMH",
        "outputId": "d8e59216-c0fc-454d-f279-2c5f74a43585"
      },
      "execution_count": 7,
      "outputs": [
        {
          "output_type": "execute_result",
          "data": {
            "text/plain": [
              "(40, 40, 10, 10)"
            ]
          },
          "metadata": {},
          "execution_count": 7
        }
      ]
    },
    {
      "cell_type": "markdown",
      "source": [
        "Let's visualize our data to better grasp what we are doing:"
      ],
      "metadata": {
        "id": "r2gwEeKmHNg0"
      }
    },
    {
      "cell_type": "code",
      "source": [
        "def plot_predictions(train_data,\n",
        "                     train_labels,\n",
        "                     test_data,\n",
        "                     test_labels,\n",
        "                     predictions=None):\n",
        "  \"\"\"\n",
        "  Plots training data, test data and compares predictions.\n",
        "  \"\"\"\n",
        "  plt.figure(figsize = (10,7))\n",
        "\n",
        "  # Plot training data in blue\n",
        "  plt.scatter(train_data, train_labels, c=\"b\", s=4, label=\"Training data\")\n",
        "\n",
        "  # Plot test data in green\n",
        "  plt.scatter(test_data, test_labels, c=\"y\",  s=4, label=\"Test data\")\n",
        "\n",
        "  if predictions is not None:\n",
        "    # Plot the predictions in red (predictions were made on the test data)\n",
        "    plt.scatter(test_data, predictions, c=\"r\", s=4, label=\"Predictions\")\n",
        "\n",
        "  # Show the legend\n",
        "  plt.legend(prop={\"size\": 14});"
      ],
      "metadata": {
        "id": "EzRPoixFHfZg"
      },
      "execution_count": 10,
      "outputs": []
    },
    {
      "cell_type": "code",
      "source": [
        "plot_predictions(X_train, y_train, X_test, y_test);"
      ],
      "metadata": {
        "colab": {
          "base_uri": "https://localhost:8080/",
          "height": 471
        },
        "id": "s7i-9LZDJKnv",
        "outputId": "96b35a70-c3c3-4bc9-e8a3-da38d3387618"
      },
      "execution_count": 11,
      "outputs": [
        {
          "output_type": "display_data",
          "data": {
            "text/plain": [
              "<Figure size 1000x700 with 1 Axes>"
            ],
            "image/png": "[encoded data removed]"
          },
          "metadata": {}
        }
      ]
    },
    {
      "cell_type": "markdown",
      "source": [
        "## 2. Build a Model\n",
        "\n",
        "Let's now build our first PyTorch model. We want to build a linear regression model, i.e., a model that learns the equations $Y = a +bX$. How can we do this?\n",
        "\n",
        "Let's write the class and then we'll comment every important step below."
      ],
      "metadata": {
        "id": "VZcJNdl7k7Wa"
      }
    },
    {
      "cell_type": "code",
      "source": [
        "# create linear regression model class\n",
        "\n",
        "class LinearRegressionModel(nn.Module): # almost anything in Torch inherits from nn.Module\n",
        "\n",
        "  def __init__(self):\n",
        "    super().__init__()  # equivalent (but more stable) to nn.Module.__init__(self)\n",
        "\n",
        "    # Initialize model parameters (could be more complex strctures - layers, functions ...)\n",
        "    self.weights = nn.Parameter(torch.randn(1,\n",
        "                                            requires_grad=True,\n",
        "                                            dtype=torch.float))\n",
        "    self.bias = nn.Parameter(torch.randn(1,\n",
        "                                         requires_grad=True,\n",
        "                                         dtype=torch.float))\n",
        "\n",
        "    def forward(self, x: torch.Tensor) -> torch.Tensor: # expects a torch.Tensor and returns a torch.Tensor\n",
        "      return self.weights * x + self.bias\n",
        "\n",
        "\n"
      ],
      "metadata": {
        "id": "q3dmDvN3l20t"
      },
      "execution_count": 14,
      "outputs": []
    },
    {
      "cell_type": "markdown",
      "source": [
        "First of all, we are inheriting from `torch.nn.Module`, which is must do practice when writing models in torch. This allows us to use all the structure from `nn.Module` in our custom Neural Network."
      ],
      "metadata": {
        "id": "1vYBRa-gng4A"
      }
    },
    {
      "cell_type": "markdown",
      "source": [
        "Then we are initializing the weight parameter as a [`Torch.nn.Parameter()`](https://docs.pytorch.org/docs/stable/generated/torch.nn.parameter.Parameter.html#parameter), which is a special `Tensor` subclass. when they’re assigned as Module attributes they are automatically added to the list of its parameters, and will appear e.g. in `parameters()`. We set `requires_grad=True` even though it's default for `Parameter()`, just for clarity. This is `True` because we will need to compute gradients on our parameters in order to train the nn."
      ],
      "metadata": {
        "id": "MtC6rNLkn5jL"
      }
    },
    {
      "cell_type": "markdown",
      "source": [
        "Finally, in the block:"
      ],
      "metadata": {
        "id": "7Rt4d8Frop6e"
      }
    },
    {
      "cell_type": "markdown",
      "source": [
        "```python\n",
        "def forward(self, x: torch.Tensor) -> torch.Tensor: # expects a torch.Tensor and returns a torch.Tensor\n",
        "return self.weights * x + self.bias\n",
        "```"
      ],
      "metadata": {
        "id": "Oj5XZsuSpwtr"
      }
    },
    {
      "cell_type": "markdown",
      "source": [
        "We defined our very important `forward()` method. Any subclass of `nn.Module()` must implement a `forward()` method.\n",
        "\n",
        "The idea is the following:\n",
        "\n",
        "* **1. forward():** our model will run the operation defined in `forward()` during training, starting with random `weights` and `biases`.\n",
        "\n",
        "* **2. Validation:** At each iteration it will compute the error between its computation and the actual data it's trying to predict (the test data).\n",
        "\n",
        "* **3. Optimization:** It will then optimize the values of the parameters `weights` and `biases` in order to reduce this error."
      ],
      "metadata": {
        "id": "MOJMzcBzqBzm"
      }
    },
    {
      "cell_type": "markdown",
      "source": [
        "This last step - the optimization - is done through the so called **error backpropagation**.\n",
        "\n",
        "Backpropagation is the adjusting of the model's weight based on the value of the error function - our **Loss** function.\n",
        "\n",
        "This is done, mathematically, by computing the gradient of the Loss, and moving in parameters space in the (opposite) direction of the gradient, in order to minimize the Loss.\n",
        "\n",
        "Find more about this topic - and all more \"theoretical topics\" in general - at **link da aggiungere alle altre note più serie, entropic theory of information**.\n",
        "\n"
      ],
      "metadata": {
        "id": "E0_I-W0drNIx"
      }
    },
    {
      "cell_type": "code",
      "source": [],
      "metadata": {
        "id": "czcv0hHxriGf"
      },
      "execution_count": null,
      "outputs": []
    }
  ],
  "metadata": {
    "colab": {
      "provenance": []
    },
    "kernelspec": {
      "display_name": "base",
      "language": "python",
      "name": "python3"
    },
    "language_info": {
      "codemirror_mode": {
        "name": "ipython",
        "version": 3
      },
      "file_extension": ".py",
      "mimetype": "text/x-python",
      "name": "python",
      "nbconvert_exporter": "python",
      "pygments_lexer": "ipython3",
      "version": "3.12.4"
    }
  },
  "nbformat": 4,
  "nbformat_minor": 0
}