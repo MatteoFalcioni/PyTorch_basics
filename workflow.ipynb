{
  "cells": [
    {
      "cell_type": "markdown",
      "source": [
        "# PyTorch Workflow\n",
        "\n",
        "Machine learning is all about finding patterns in data - and using those patterns to make predictions. Deep learning, with tools like neural networks, takes this idea further by tackling problems that are too complex for traditional algorithms.\n",
        "\n",
        "Below you can find an example of PyTorch Workflow. We are going to cover all these points in the next part of the course."
      ],
      "metadata": {
        "id": "u_we3MJqANgf"
      }
    },
    {
      "cell_type": "markdown",
      "source": [
        "![Example of encoding an RGB image](https://github.com/MatteoFalcioni/PyTorch_basics/blob/main/imgs/01_a_pytorch_workflow.png?raw=1)"
      ],
      "metadata": {
        "id": "RDnlX4cK-Qbo"
      }
    },
    {
      "cell_type": "markdown",
      "source": [
        "We will be heavily using the [`torch.nn`](https://docs.pytorch.org/docs/stable/nn.html#module-torch.nn) module in this section."
      ],
      "metadata": {
        "id": "6Vx7Ct7qAbQE"
      }
    },
    {
      "cell_type": "code",
      "source": [
        "import torch\n",
        "from torch import nn\n",
        "import matplotlib.pyplot as plt\n",
        "\n",
        "torch.__version__"
      ],
      "metadata": {
        "colab": {
          "base_uri": "https://localhost:8080/",
          "height": 36
        },
        "id": "ph1MLI3dEpx2",
        "outputId": "11bfd923-758c-49d7-ee9d-c4fb63ca32f9"
      },
      "execution_count": 2,
      "outputs": [
        {
          "output_type": "execute_result",
          "data": {
            "text/plain": [
              "'2.6.0+cu124'"
            ],
            "application/vnd.google.colaboratory.intrinsic+json": {
              "type": "string"
            }
          },
          "metadata": {},
          "execution_count": 2
        }
      ]
    },
    {
      "cell_type": "markdown",
      "source": [
        "## 1. Data (Preparing and Loading)"
      ],
      "metadata": {
        "id": "lye8naB-FLPq"
      }
    },
    {
      "cell_type": "markdown",
      "source": [
        "Machine learning is a game of two parts:\n",
        "\n",
        "Turn your data, whatever it is, into numbers (a representation).\n",
        "Pick or build a model to learn the representation as best as possible.\n",
        "Sometimes one and two can be done at the same time.\n",
        "\n",
        "But what if you don't have data?\n",
        "\n",
        "Well, that's where we're at now.\n",
        "\n",
        "No data.\n",
        "\n",
        "But we can create some.\n",
        "\n",
        "Let's create our data as a straight line."
      ],
      "metadata": {
        "id": "Lwr4LJ5rFQ3O"
      }
    },
    {
      "cell_type": "markdown",
      "source": [
        "We'll use linear regression to create the data with known parameters (things that can be learned by a model) and then we'll use PyTorch to see if we can build model to estimate these parameters using gradient descent."
      ],
      "metadata": {
        "id": "qIBL6-auFcHY"
      }
    },
    {
      "cell_type": "code",
      "source": [
        "# Create *known* parameters\n",
        "weight = 0.7\n",
        "bias = 0.3\n",
        "\n",
        "# Create data\n",
        "start = 0\n",
        "end = 1\n",
        "step = 0.02\n",
        "X = torch.arange(start, end, step).unsqueeze(dim=1) # unsqueeze needed later on\n",
        "y = weight * X + bias\n",
        "\n",
        "X[:10], y[:10], len(X), X.shape"
      ],
      "metadata": {
        "colab": {
          "base_uri": "https://localhost:8080/"
        },
        "id": "2omCPfyCFeo9",
        "outputId": "fc6763de-c7b6-4283-ec05-e46d62d981c2"
      },
      "execution_count": 3,
      "outputs": [
        {
          "output_type": "execute_result",
          "data": {
            "text/plain": [
              "(tensor([[0.0000],\n",
              "         [0.0200],\n",
              "         [0.0400],\n",
              "         [0.0600],\n",
              "         [0.0800],\n",
              "         [0.1000],\n",
              "         [0.1200],\n",
              "         [0.1400],\n",
              "         [0.1600],\n",
              "         [0.1800]]),\n",
              " tensor([[0.3000],\n",
              "         [0.3140],\n",
              "         [0.3280],\n",
              "         [0.3420],\n",
              "         [0.3560],\n",
              "         [0.3700],\n",
              "         [0.3840],\n",
              "         [0.3980],\n",
              "         [0.4120],\n",
              "         [0.4260]]),\n",
              " 50,\n",
              " torch.Size([50, 1]))"
            ]
          },
          "metadata": {},
          "execution_count": 3
        }
      ]
    },
    {
      "cell_type": "markdown",
      "source": [
        "Now we're going to move towards building a model that can learn the relationship between `X` (features) and `y` (labels)."
      ],
      "metadata": {
        "id": "ZYIej2xfFnvn"
      }
    },
    {
      "cell_type": "markdown",
      "source": [
        "### Split Data Into Training and Test"
      ],
      "metadata": {
        "id": "0uTY0g0rFhwO"
      }
    },
    {
      "cell_type": "markdown",
      "source": [
        "We've got some data.\n",
        "\n",
        "But before we build a model we need to split it up.\n",
        "\n",
        "One of most important steps in a machine learning project is creating a training and test set (and when required, a validation set).\n",
        "\n",
        "Each split of the dataset serves a specific purpose:"
      ],
      "metadata": {
        "id": "gXEyjVPMF1mO"
      }
    },
    {
      "cell_type": "markdown",
      "source": [
        "| **Split**         | **Purpose**                                                            | **Proportion of Total Data** |\n",
        "|-------------------|------------------------------------------------------------------------|-------------------------------|\n",
        "| **Training set**   | Used to train the model by allowing it to learn underlying patterns.    | ~60–80%                       |\n",
        "| **Validation set** | Used to fine-tune model parameters and monitor performance during development. | ~10–20%                       |\n",
        "| **Testing set**    | Used to evaluate the model’s final performance on unseen data.         | ~10–20%                       |\n"
      ],
      "metadata": {
        "id": "1pvzPXeaGSJn"
      }
    },
    {
      "cell_type": "markdown",
      "source": [
        "For now, we'll just use a training and test set, this means we'll have a dataset for our model to learn on as well as be evaluated on.\n",
        "\n",
        "We can create them by splitting our `X` and `y` tensors"
      ],
      "metadata": {
        "id": "0wprqIgmGRx-"
      }
    },
    {
      "cell_type": "markdown",
      "source": [
        "> **Note:** When dealing with real-world data, this step is typically done right at the start of a project (the test set should always be kept separate from all other data). We want our model to learn from training data and then evaluate it on test data to get an indication of how well it **generalizes** to unseen examples."
      ],
      "metadata": {
        "id": "VtANmVntGn-v"
      }
    },
    {
      "cell_type": "code",
      "source": [
        "# Create train/test split\n",
        "\n",
        "train_split = int( 0.8 * len(X) )\n",
        "\n",
        "X_train, y_train = X[:train_split], y[:train_split]\n",
        "X_test, y_test = X[train_split:], y[train_split:]\n",
        "\n",
        "len(X_train), len(y_train), len(X_test), len(y_test)"
      ],
      "metadata": {
        "colab": {
          "base_uri": "https://localhost:8080/"
        },
        "id": "vD1mS3L9GwMH",
        "outputId": "98fadca1-fbed-43a1-d48e-fc28b893adb2"
      },
      "execution_count": 4,
      "outputs": [
        {
          "output_type": "execute_result",
          "data": {
            "text/plain": [
              "(40, 40, 10, 10)"
            ]
          },
          "metadata": {},
          "execution_count": 4
        }
      ]
    },
    {
      "cell_type": "markdown",
      "source": [
        "Let's visualize our data to better grasp what we are doing:"
      ],
      "metadata": {
        "id": "r2gwEeKmHNg0"
      }
    },
    {
      "cell_type": "code",
      "source": [
        "def plot_predictions(train_data,\n",
        "                     train_labels,\n",
        "                     test_data,\n",
        "                     test_labels,\n",
        "                     predictions=None):\n",
        "  \"\"\"\n",
        "  Plots training data, test data and compares predictions.\n",
        "  \"\"\"\n",
        "  plt.figure(figsize = (10,7))\n",
        "\n",
        "  # Plot training data in blue\n",
        "  plt.scatter(train_data, train_labels, c=\"b\", s=4, label=\"Training data\")\n",
        "\n",
        "  # Plot test data in green\n",
        "  plt.scatter(test_data, test_labels, c=\"y\",  s=4, label=\"Test data\")\n",
        "\n",
        "  if predictions is not None:\n",
        "    # Plot the predictions in red (predictions were made on the test data)\n",
        "    plt.scatter(test_data, predictions, c=\"r\", s=4, label=\"Predictions\")\n",
        "\n",
        "  # Show the legend\n",
        "  plt.legend(prop={\"size\": 14});"
      ],
      "metadata": {
        "id": "EzRPoixFHfZg"
      },
      "execution_count": 5,
      "outputs": []
    },
    {
      "cell_type": "code",
      "source": [
        "plot_predictions(X_train, y_train, X_test, y_test);"
      ],
      "metadata": {
        "colab": {
          "base_uri": "https://localhost:8080/",
          "height": 471
        },
        "id": "s7i-9LZDJKnv",
        "outputId": "1dbc7aee-da46-4fa4-ef09-662836fd7afd"
      },
      "execution_count": 6,
      "outputs": [
        {
          "output_type": "display_data",
          "data": {
            "text/plain": [
              "<Figure size 1000x700 with 1 Axes>"
            ],
            "image/png": "[encoded data removed]"
          },
          "metadata": {}
        }
      ]
    },
    {
      "cell_type": "markdown",
      "source": [
        "## 2. Build a Model\n",
        "\n",
        "Let's now build our first PyTorch model. We want to build a linear regression model, i.e., a model that learns the equations $Y = a +bX$. How can we do this?\n",
        "\n",
        "Let's write the class and then we'll comment every important step below."
      ],
      "metadata": {
        "id": "VZcJNdl7k7Wa"
      }
    },
    {
      "cell_type": "code",
      "source": [
        "# create linear regression model class\n",
        "\n",
        "class LinearRegressionModel(nn.Module): # almost anything in Torch inherits from nn.Module\n",
        "\n",
        "  def __init__(self):\n",
        "    super().__init__()  # equivalent (but more stable) to nn.Module.__init__(self)\n",
        "\n",
        "    # Initialize model parameters (could be more complex strctures - layers, functions ...)\n",
        "    self.weights = nn.Parameter(torch.randn(1,\n",
        "                                            requires_grad=True,\n",
        "                                            dtype=torch.float))\n",
        "    self.bias = nn.Parameter(torch.randn(1,\n",
        "                                         requires_grad=True,\n",
        "                                         dtype=torch.float))\n",
        "\n",
        "  # Forward method (mandatory)\n",
        "  def forward(self, x: torch.Tensor) -> torch.Tensor: # expects a torch.Tensor and returns a torch.Tensor\n",
        "    return self.weights * x + self.bias\n",
        "\n",
        "\n"
      ],
      "metadata": {
        "id": "q3dmDvN3l20t"
      },
      "execution_count": 19,
      "outputs": []
    },
    {
      "cell_type": "markdown",
      "source": [
        "First of all, we are inheriting from `torch.nn.Module`, which is must do practice when writing models in torch. This allows us to use all the structure from `nn.Module` in our custom Neural Network."
      ],
      "metadata": {
        "id": "1vYBRa-gng4A"
      }
    },
    {
      "cell_type": "markdown",
      "source": [
        "Then we are initializing the weight parameter as a [`Torch.nn.Parameter()`](https://docs.pytorch.org/docs/stable/generated/torch.nn.parameter.Parameter.html#parameter), which is a special `Tensor` subclass. when they’re assigned as Module attributes they are automatically added to the list of its parameters, and will appear e.g. in `parameters()`. We set `requires_grad=True` even though it's default for `Parameter()`, just for clarity. This is `True` because we will need to compute gradients on our parameters in order to train the nn."
      ],
      "metadata": {
        "id": "MtC6rNLkn5jL"
      }
    },
    {
      "cell_type": "markdown",
      "source": [
        "Finally, in the block:"
      ],
      "metadata": {
        "id": "7Rt4d8Frop6e"
      }
    },
    {
      "cell_type": "markdown",
      "source": [
        "```python\n",
        "def forward(self, x: torch.Tensor) -> torch.Tensor: # expects a torch.Tensor and returns a torch.Tensor\n",
        "return self.weights * x + self.bias\n",
        "```"
      ],
      "metadata": {
        "id": "Oj5XZsuSpwtr"
      }
    },
    {
      "cell_type": "markdown",
      "source": [
        "We defined our very important `forward()` method. Any subclass of `nn.Module()` must implement a `forward()` method.\n",
        "\n",
        "The idea is the following:\n",
        "\n",
        "* **1. forward():** our model will run the operation defined in `forward()` during training, starting with random `weights` and `biases`.\n",
        "\n",
        "* **2. Validation:** At each iteration it will compute the error between its computation and the actual data it's trying to predict (the test data).\n",
        "\n",
        "* **3. Optimization:** It will then optimize the values of the parameters `weights` and `biases` in order to reduce this error."
      ],
      "metadata": {
        "id": "MOJMzcBzqBzm"
      }
    },
    {
      "cell_type": "markdown",
      "source": [
        "This last step - the optimization - is done through the so called **error backpropagation**.\n",
        "\n",
        "Backpropagation is the adjusting of the model's weight based on the value of the error function - our **Loss** function.\n",
        "\n",
        "This is done, mathematically, by computing the gradient of the Loss, and moving in parameters space in the (opposite) direction of the gradient, in order to minimize the Loss.\n",
        "\n",
        "Find more about this topic - and all more \"theoretical topics\" in general - at **link da aggiungere alle altre note più serie, entropic theory of information**.\n",
        "\n"
      ],
      "metadata": {
        "id": "E0_I-W0drNIx"
      }
    },
    {
      "cell_type": "markdown",
      "source": [
        "### Checking the Contents of Our PyTorch Model\n",
        "\n",
        "How can we check what's going on inside a `LinearRegressionModel()` object? Let's investigate it:"
      ],
      "metadata": {
        "id": "aU0uW4XMvbvT"
      }
    },
    {
      "cell_type": "code",
      "source": [
        "# Set manual seed since nn.Parameter are randomly initialized\n",
        "torch.manual_seed(42)\n",
        "\n",
        "# Create an instance of the model (this is a subclass of nn.Module that contains nn.Parameter(s))\n",
        "model_0 = LinearRegressionModel()\n",
        "\n",
        "model_0"
      ],
      "metadata": {
        "colab": {
          "base_uri": "https://localhost:8080/"
        },
        "id": "qYIy3Uz1Q-Gs",
        "outputId": "5d90d4f7-8e88-4f0b-ed64-272cb9d6c194"
      },
      "execution_count": 23,
      "outputs": [
        {
          "output_type": "execute_result",
          "data": {
            "text/plain": [
              "LinearRegressionModel()"
            ]
          },
          "metadata": {},
          "execution_count": 23
        }
      ]
    },
    {
      "cell_type": "markdown",
      "source": [
        "Of course printing out our model object doesn't give us a lot of information. But we can use the method `.parameters()` to chech the network parameters."
      ],
      "metadata": {
        "id": "lVRkK6YJvq_C"
      }
    },
    {
      "cell_type": "code",
      "source": [
        "# Check the nn.Parameter(s) within the nn.Module subclass we created\n",
        "list(model_0.parameters())  # list because it returns a generator"
      ],
      "metadata": {
        "colab": {
          "base_uri": "https://localhost:8080/"
        },
        "id": "thTlxwQpRji9",
        "outputId": "aa579776-8d5e-4842-b56d-f55387f4e657"
      },
      "execution_count": 24,
      "outputs": [
        {
          "output_type": "execute_result",
          "data": {
            "text/plain": [
              "[Parameter containing:\n",
              " tensor([0.3367], requires_grad=True),\n",
              " Parameter containing:\n",
              " tensor([0.1288], requires_grad=True)]"
            ]
          },
          "metadata": {},
          "execution_count": 24
        }
      ]
    },
    {
      "cell_type": "markdown",
      "source": [
        "We can also get the state (what the model contains) of the model using `.state_dict()`"
      ],
      "metadata": {
        "id": "-a5sroW8R2BE"
      }
    },
    {
      "cell_type": "code",
      "source": [
        "# List named parameters\n",
        "model_0.state_dict()"
      ],
      "metadata": {
        "colab": {
          "base_uri": "https://localhost:8080/"
        },
        "id": "58g4YM04R-J7",
        "outputId": "ecb8cac5-0a52-491a-a049-1a6673f10913"
      },
      "execution_count": 25,
      "outputs": [
        {
          "output_type": "execute_result",
          "data": {
            "text/plain": [
              "OrderedDict([('weights', tensor([0.3367])), ('bias', tensor([0.1288]))])"
            ]
          },
          "metadata": {},
          "execution_count": 25
        }
      ]
    },
    {
      "cell_type": "markdown",
      "source": [
        "Because our model starts with random values, right now it'll have poor predictive power."
      ],
      "metadata": {
        "id": "5Q_HRgG9SG5j"
      }
    },
    {
      "cell_type": "markdown",
      "source": [
        "### Make predictions with our model\n",
        "\n",
        "What is our predictive power right now that the model has just been initialized? Well, it will be very poor.\n",
        "\n",
        "Let's run inference with our model real quick to check:"
      ],
      "metadata": {
        "id": "CpGBEBQHSKOx"
      }
    },
    {
      "cell_type": "code",
      "source": [
        "with torch.no_grad():   # context manager to disable gradients (very important!)\n",
        "  y_pred = model_0(X_test)\n",
        "\n",
        "plot_predictions(X_train, y_train, X_test, y_test, y_pred)"
      ],
      "metadata": {
        "colab": {
          "base_uri": "https://localhost:8080/",
          "height": 471
        },
        "id": "cxYWeWX_S-wK",
        "outputId": "6c20a8cb-20e4-474c-af49-7196e6eda56f"
      },
      "execution_count": 29,
      "outputs": [
        {
          "output_type": "display_data",
          "data": {
            "text/plain": [
              "<Figure size 1000x700 with 1 Axes>"
            ],
            "image/png": "[encoded data removed]"
          },
          "metadata": {}
        }
      ]
    },
    {
      "cell_type": "markdown",
      "source": [
        "[`torch.no_grad()`](https://docs.pytorch.org/docs/stable/generated/torch.no_grad.html#no-grad) is a context manager that allows you to disable gradient computation when running inference or evaluation of your model, in order for your code to run a lot faster while computing predictions. Using it when running inference or evaluating the model on the test set should become an habit.\n",
        "\n",
        "An alternative is [`torch.inference_mode()`](https://docs.pytorch.org/docs/stable/generated/torch.autograd.grad_mode.inference_mode.html#inference-mode), which is actually preferred for pure inference, as it is even more optimized compared to `.no_grad()`. The main difference between the two is that you should use `torch.inference_mode()` only when running inference after training. If you need, in the same context or loop, to re-activate gradient computation (e.g. in the training + validation loop) use `torch.no_grad()`.\n",
        "\n"
      ],
      "metadata": {
        "id": "L76DWoAQUiBi"
      }
    },
    {
      "cell_type": "markdown",
      "source": [
        "Now, we want to make to train our model in order to make it learn. Let's see how."
      ],
      "metadata": {
        "id": "QhFT0SVPWFaI"
      }
    },
    {
      "cell_type": "markdown",
      "source": [
        "## Train the model\n",
        "\n",
        "A question that might come natural at this time is: if we already know the parameters' correct values, why in the world should we construct a complex machinery like a Neural Network to approximate them? Well, the reason is that in many (actually, all) cases we don't know the values that we try to infer with models.\n",
        "\n",
        "Imagine we are trying to make our model learn how to generate images of dogs. What are the correct values of the weights to produce such a seemingly impossible task? Well, we don't know of course: but our network can learn it. This is the incredible power of deep learning.  "
      ],
      "metadata": {
        "id": "rvQ43-lpWXkq"
      }
    },
    {
      "cell_type": "markdown",
      "source": [
        "Let's try and make our model learn. In order to do this, we should choose a **Loss** function: a criterion that tells us, looking at the predictions our model is making, how wrong it is. So that we can optimize the weights in order to reduce the Loss.\n",
        "\n",
        "For this optimization we'll need an optimizer as well: something that computes the gradient $∇ \\mathcal{L} $ of the loss and moves in the correct direction in order to minimize $\\mathcal{L}$."
      ],
      "metadata": {
        "id": "FKNMWESjXQEy"
      }
    },
    {
      "cell_type": "markdown",
      "source": [
        "Depending on what kind of problem you're working on will depend on what loss function and what optimizer you use.\n",
        "\n",
        "However, there are some common values, that are known to work well such as the SGD (stochastic gradient descent) or Adam optimizer. And the MAE (mean absolute error) loss function for regression problems (predicting a number) or binary cross entropy loss function for classification problems (predicting one thing or another)."
      ],
      "metadata": {
        "id": "15vEkv-pX557"
      }
    },
    {
      "cell_type": "markdown",
      "source": [
        "For our problem, since we're predicting a number, let's use MAE (which is under `torch.nn.L1Loss()`) as our loss. The idea of MAE is depicted below."
      ],
      "metadata": {
        "id": "pHJOm4GkYahg"
      }
    },
    {
      "cell_type": "code",
      "source": [
        "![MAE loss](https://github.com/MatteoFalcioni/PyTorch_basics/blob/main/imgs/01-mae-loss-annotated.png?raw=1)"
      ],
      "metadata": {
        "colab": {
          "base_uri": "https://localhost:8080/"
        },
        "id": "9KiOgi1rYk6J",
        "outputId": "2c30565e-bc5d-40b3-e8b9-ec1797489d16"
      },
      "execution_count": 31,
      "outputs": [
        {
          "output_type": "stream",
          "name": "stdout",
          "text": [
            "/bin/bash: -c: line 1: syntax error near unexpected token `('\n",
            "/bin/bash: -c: line 1: `[MAE loss](https://github.com/MatteoFalcioni/PyTorch_basics/blob/main/imgs/01-mae-loss-annotated.png?raw=1)'\n"
          ]
        }
      ]
    },
    {
      "cell_type": "code",
      "source": [
        "# Set the Loss\n",
        "loss_fn = nn.L1Loss()\n",
        "\n",
        "# Set the optimizer\n",
        "optimizer = torch.optim.SGD(params=model_0.parameters(),\n",
        "                            lr=0.01)"
      ],
      "metadata": {
        "id": "s2mk_UIaZs4r"
      },
      "execution_count": 32,
      "outputs": []
    },
    {
      "cell_type": "markdown",
      "source": [
        "Our optimizer needs to now what are the parameters it should optimize, and the **learning rate** value. The latter is probably the most important *hyperparameter*. Its optimal value varies **a lot** for each task.\n",
        "\n",
        "The learning rate is the 'size' of the step that our optimizer takes in the direction of $∇ \\mathcal{L}$. So you can guess that its value changes completely the rate of convergence of our loss to its (local) minimum."
      ],
      "metadata": {
        "id": "eqb2MraUaKdc"
      }
    },
    {
      "cell_type": "markdown",
      "source": [
        "> **What are hyperparameters?**  Hyperparameters are parameters values *set by the user before training*. They are not learned from the data but rather control the learning process or model architecture. Different from the usual parameters, which we can define as the values that the model learns from data during training via backpropagation and gradient descent."
      ],
      "metadata": {
        "id": "_StKiA3za5Dc"
      }
    },
    {
      "cell_type": "markdown",
      "source": [
        "### Building a training (& testing) loop\n",
        "\n",
        "The training loop involves the model going through the training data and learning the relationships between the `features` and `labels`.\n",
        "\n",
        "The testing loop involves going through the testing data and evaluating how good the patterns are that the model learned on the training data (the model never sees the testing data during training).\n",
        "\n",
        "We are talking about \"loops\" because we want our model to look (loop through) at each sample in each dataset."
      ],
      "metadata": {
        "id": "ki6e2GgscVoK"
      }
    },
    {
      "cell_type": "markdown",
      "source": [
        "We can summarize the main steps we need in a training loop as follows:\n",
        "0. Loop through the data\n",
        "1. Forward pass (get predictions from the model)\n",
        "2. Compute the loss (to compare predictions and ground truth labels - how wrong are the predictions?)\n",
        "3. Zero out the gradient with `.zero_grad()`\n",
        "4. `loss.backward()` to run backpropagation (i.e., compute $\\nabla \\mathcal{L}$ by starting from the last layer of the network and going back to the first).\n",
        "5. `optimizer.step()` - use the optimizer to adjust the weights (minimizing $\\mathcal{L}$)."
      ],
      "metadata": {
        "id": "PeWFIvb2dNUx"
      }
    },
    {
      "cell_type": "code",
      "source": [
        "# \"epochs\" = number of loops through the data (hyperparameter)\n",
        "epochs = 1  # let's start with just 1\n",
        "\n",
        "# 0. Loop through the data\n",
        "for epoch in epochs:\n",
        "  # Set the model to train mode\n",
        "  model_0.train()\n",
        "\n",
        "  # 1. Forward pass (get predictions from the model)\n",
        "  y_pred = model_0.forward(X_train)\n",
        "\n",
        "  # 2. Compute the loss\n",
        "  Loss = loss_fn(y_pred)\n",
        "\n",
        "  # 3. Zero out the gradient\n",
        "  optimizer.zero_grad()\n",
        "\n",
        "  # 4. Compute the gradients\n",
        "  Loss.backward()\n",
        "\n",
        "  # 5. Adjust the weights\n",
        "  optimizer.step()"
      ],
      "metadata": {
        "id": "0F0RsvCRc-WF"
      },
      "execution_count": null,
      "outputs": []
    }
  ],
  "metadata": {
    "colab": {
      "provenance": []
    },
    "kernelspec": {
      "display_name": "base",
      "language": "python",
      "name": "python3"
    },
    "language_info": {
      "codemirror_mode": {
        "name": "ipython",
        "version": 3
      },
      "file_extension": ".py",
      "mimetype": "text/x-python",
      "name": "python",
      "nbconvert_exporter": "python",
      "pygments_lexer": "ipython3",
      "version": "3.12.4"
    }
  },
  "nbformat": 4,
  "nbformat_minor": 0
}