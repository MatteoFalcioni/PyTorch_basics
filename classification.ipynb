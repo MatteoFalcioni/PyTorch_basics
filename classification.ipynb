{
  "cells": [
    {
      "cell_type": "markdown",
      "source": [
        "## Introduction: Neural Networks for Classification\n",
        "\n",
        "Classification is one of the most fundamental tasks in supervised machine learning, where the objective is to assign input data to one or more predefined categories. Neural networks, with their ability to learn complex patterns from data, have become powerful tools for solving a wide range of classification problems across domains such as computer vision, natural language processing, and bioinformatics.\n",
        "\n",
        "In this notebook, we focus on neural networks as **classifiers**  - models trained to distinguish between classes based on the features of the input data. While the underlying principles of training remain consistent, the nature of the classification task can vary significantly depending on the structure of the output space. Specifically, we distinguish between:\n",
        "\n",
        "- **Binary classification**, where the model must decide between two possible classes (e.g., spam vs. not spam).\n",
        "- **Multiclass classification**, where the model chooses one class from a set of more than two mutually exclusive categories (e.g., digit recognition from 0 to 9).\n",
        "- **Multilabel classification**, where multiple labels may be assigned to a single input instance, allowing for overlapping classes (e.g., tagging an image as both \"cat\" and \"outdoors\").\n",
        "\n",
        "Each of these scenarios has implications for how the neural network is structured, how the outputs are interpreted, and which loss functions and evaluation metrics are most appropriate. Throughout this notebook, we will explore these distinctions in detail, and demonstrate how to implement and train neural network classifiers tailored to each classification paradigm using PyTorch.\n"
      ],
      "metadata": {
        "id": "e9c1fb3f"
      },
      "id": "e9c1fb3f"
    },
    {
      "cell_type": "code",
      "source": [],
      "metadata": {
        "id": "bKdLTievebaO"
      },
      "id": "bKdLTievebaO",
      "execution_count": null,
      "outputs": []
    }
  ],
  "metadata": {
    "kernelspec": {
      "display_name": "base",
      "language": "python",
      "name": "python3"
    },
    "language_info": {
      "codemirror_mode": {
        "name": "ipython",
        "version": 3
      },
      "file_extension": ".py",
      "mimetype": "text/x-python",
      "name": "python",
      "nbconvert_exporter": "python",
      "pygments_lexer": "ipython3",
      "version": "3.12.4"
    },
    "colab": {
      "provenance": []
    }
  },
  "nbformat": 4,
  "nbformat_minor": 5
}