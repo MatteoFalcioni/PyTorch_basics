{
  "cells": [
    {
      "cell_type": "markdown",
      "source": [
        "# Neural Network Classification in PyTorch\n",
        "\n",
        "Classification is one of the most fundamental tasks in supervised machine learning, where the objective is to assign input data to one or more predefined categories. Neural networks, with their ability to learn complex patterns from data, have become powerful tools for solving a wide range of classification problems across domains such as computer vision, natural language processing, and bioinformatics.\n",
        "\n",
        "In this notebook, we focus on neural networks as **classifiers**  - models trained to distinguish between classes based on the features of the input data. While the underlying principles of training remain consistent, the nature of the classification task can vary significantly depending on the structure of the output space. Specifically, we distinguish between:\n",
        "\n",
        "- **Binary classification**, where the model must decide between two possible classes (e.g., spam vs. not spam).\n",
        "- **Multiclass classification**, where the model chooses one class from a set of more than two mutually exclusive categories (e.g., digit recognition from 0 to 9).\n",
        "- **Multilabel classification**, where multiple labels may be assigned to a single input instance, allowing for overlapping classes (e.g., tagging an image as both \"cat\" and \"outdoors\").\n",
        "\n",
        "Each of these scenarios has implications for how the neural network is structured, how the outputs are interpreted, and which loss functions and evaluation metrics are most appropriate. Throughout this notebook, we will explore these distinctions in detail, and demonstrate how to implement and train neural network classifiers tailored to each classification paradigm using PyTorch.\n"
      ],
      "metadata": {
        "id": "e9c1fb3f"
      },
      "id": "e9c1fb3f"
    },
    {
      "cell_type": "markdown",
      "source": [
        "![Example of encoding an RGB image](https://github.com/MatteoFalcioni/PyTorch_basics/blob/main/imgs/02-different-classification-problems.png?raw=1)"
      ],
      "metadata": {
        "id": "bKdLTievebaO"
      },
      "id": "bKdLTievebaO"
    },
    {
      "cell_type": "markdown",
      "source": [
        "## Typical Architecture of a Neural Network Classifier\n",
        "\n",
        "| **Hyperparameter**         | **Binary Classification**                                                                 | **Multiclass Classification**                                                  |\n",
        "|---------------------------|--------------------------------------------------------------------------------------------|---------------------------------------------------------------------------------|\n",
        "| **Input layer shape** (`in_features`) | Same as the number of input features (e.g., 5 for age, sex, height, weight, smoking status) | Same as binary classification                                                  |\n",
        "| **Hidden layers**          | Problem-specific; minimum 1, no strict maximum                                            | Same as binary classification                                                  |\n",
        "| **Neurons per hidden layer** | Typically between 10 and 512; depends on data and model complexity                        | Same as binary classification                                                  |\n",
        "| **Output layer shape** (`out_features`) | 1 (to predict a probability of class 1 vs. class 0)                               | 1 per class (e.g., 3 for food, person, or dog)                                 |\n",
        "| **Hidden layer activation**| Usually ReLU (`torch.nn.ReLU`), but others are possible                                   | Same as binary classification                                                  |\n",
        "| **Output activation**      | Sigmoid (`torch.sigmoid`)                                                                 | Softmax (`torch.softmax`)                                                      |\n",
        "| **Loss function**          | Binary Cross-Entropy (`torch.nn.BCELoss`)                                                 | Cross-Entropy (`torch.nn.CrossEntropyLoss`)                                    |\n",
        "| **Optimizer**              | SGD (stochastic gradient descent), Adam (see `torch.optim` for more options)              | Same as binary classification                                                  |\n"
      ],
      "metadata": {
        "id": "-X2qWzxBfQPV"
      },
      "id": "-X2qWzxBfQPV"
    },
    {
      "cell_type": "markdown",
      "source": [
        "## 1. Make classification data and get it ready\n",
        "\n",
        "Let's create our own data. We are going to make a dataset of circles."
      ],
      "metadata": {
        "id": "2Q7J-Qwvi1eq"
      },
      "id": "2Q7J-Qwvi1eq"
    },
    {
      "cell_type": "code",
      "source": [
        "from sklearn.datasets import make_circles\n",
        "\n",
        "# Make 1000 samples\n",
        "n_samples = 1000\n",
        "\n",
        "X, y = make_circles(n_samples,\n",
        "                    noise=0.03,\n",
        "                    random_state=42)  # returns as y an array of 0's and 1's"
      ],
      "metadata": {
        "id": "nWC_np_Xjkyy"
      },
      "id": "nWC_np_Xjkyy",
      "execution_count": 33,
      "outputs": []
    },
    {
      "cell_type": "code",
      "source": [
        "print(f\"first 5 samples of X: {X[:5]}\")\n",
        "print(f\"first 5 samples of y: {y[:5]}\")"
      ],
      "metadata": {
        "id": "G2PYrrkGjzOm",
        "outputId": "007b9385-dc09-451f-807f-81c020ce405e",
        "colab": {
          "base_uri": "https://localhost:8080/"
        }
      },
      "id": "G2PYrrkGjzOm",
      "execution_count": 34,
      "outputs": [
        {
          "output_type": "stream",
          "name": "stdout",
          "text": [
            "first 5 samples of X: [[ 0.75424625  0.23148074]\n",
            " [-0.75615888  0.15325888]\n",
            " [-0.81539193  0.17328203]\n",
            " [-0.39373073  0.69288277]\n",
            " [ 0.44220765 -0.89672343]]\n",
            "first 5 samples of y: [1 1 1 1 0]\n"
          ]
        }
      ]
    },
    {
      "cell_type": "markdown",
      "source": [
        "Labels `y` are only $0$ or $1$ --> binary classification!\n",
        "\n",
        "### 1.1 Create a DataFrame\n",
        "\n",
        "Let's make a pandas dataframe for clarity. `X` is bi-dimensional, so let's do:"
      ],
      "metadata": {
        "id": "gJVf-vX4j3is"
      },
      "id": "gJVf-vX4j3is"
    },
    {
      "cell_type": "code",
      "source": [
        "# DataFrame of circle data\n",
        "\n",
        "import pandas as pd\n",
        "circles = pd.DataFrame({\"X1\": X[:, 0], \"X2\": X[:, 1], \"label\": y})\n",
        "circles.head(10)"
      ],
      "metadata": {
        "id": "Ud7-LNGGkiDD",
        "outputId": "a33b5888-58aa-4b7b-819b-dd82bbf74a4a",
        "colab": {
          "base_uri": "https://localhost:8080/",
          "height": 0
        }
      },
      "id": "Ud7-LNGGkiDD",
      "execution_count": 35,
      "outputs": [
        {
          "output_type": "execute_result",
          "data": {
            "text/plain": [
              "         X1        X2  label\n",
              "0  0.754246  0.231481      1\n",
              "1 -0.756159  0.153259      1\n",
              "2 -0.815392  0.173282      1\n",
              "3 -0.393731  0.692883      1\n",
              "4  0.442208 -0.896723      0\n",
              "5 -0.479646  0.676435      1\n",
              "6 -0.013648  0.803349      1\n",
              "7  0.771513  0.147760      1\n",
              "8 -0.169322 -0.793456      1\n",
              "9 -0.121486  1.021509      0"
            ],
            "text/html": [
              "\n",
              "  <div id=\"df-e449cfcc-6048-4425-baa5-d728422a4445\" class=\"colab-df-container\">\n",
              "    <div>\n",
              "<style scoped>\n",
              "    .dataframe tbody tr th:only-of-type {\n",
              "        vertical-align: middle;\n",
              "    }\n",
              "\n",
              "    .dataframe tbody tr th {\n",
              "        vertical-align: top;\n",
              "    }\n",
              "\n",
              "    .dataframe thead th {\n",
              "        text-align: right;\n",
              "    }\n",
              "</style>\n",
              "<table border=\"1\" class=\"dataframe\">\n",
              "  <thead>\n",
              "    <tr style=\"text-align: right;\">\n",
              "      <th></th>\n",
              "      <th>X1</th>\n",
              "      <th>X2</th>\n",
              "      <th>label</th>\n",
              "    </tr>\n",
              "  </thead>\n",
              "  <tbody>\n",
              "    <tr>\n",
              "      <th>0</th>\n",
              "      <td>0.754246</td>\n",
              "      <td>0.231481</td>\n",
              "      <td>1</td>\n",
              "    </tr>\n",
              "    <tr>\n",
              "      <th>1</th>\n",
              "      <td>-0.756159</td>\n",
              "      <td>0.153259</td>\n",
              "      <td>1</td>\n",
              "    </tr>\n",
              "    <tr>\n",
              "      <th>2</th>\n",
              "      <td>-0.815392</td>\n",
              "      <td>0.173282</td>\n",
              "      <td>1</td>\n",
              "    </tr>\n",
              "    <tr>\n",
              "      <th>3</th>\n",
              "      <td>-0.393731</td>\n",
              "      <td>0.692883</td>\n",
              "      <td>1</td>\n",
              "    </tr>\n",
              "    <tr>\n",
              "      <th>4</th>\n",
              "      <td>0.442208</td>\n",
              "      <td>-0.896723</td>\n",
              "      <td>0</td>\n",
              "    </tr>\n",
              "    <tr>\n",
              "      <th>5</th>\n",
              "      <td>-0.479646</td>\n",
              "      <td>0.676435</td>\n",
              "      <td>1</td>\n",
              "    </tr>\n",
              "    <tr>\n",
              "      <th>6</th>\n",
              "      <td>-0.013648</td>\n",
              "      <td>0.803349</td>\n",
              "      <td>1</td>\n",
              "    </tr>\n",
              "    <tr>\n",
              "      <th>7</th>\n",
              "      <td>0.771513</td>\n",
              "      <td>0.147760</td>\n",
              "      <td>1</td>\n",
              "    </tr>\n",
              "    <tr>\n",
              "      <th>8</th>\n",
              "      <td>-0.169322</td>\n",
              "      <td>-0.793456</td>\n",
              "      <td>1</td>\n",
              "    </tr>\n",
              "    <tr>\n",
              "      <th>9</th>\n",
              "      <td>-0.121486</td>\n",
              "      <td>1.021509</td>\n",
              "      <td>0</td>\n",
              "    </tr>\n",
              "  </tbody>\n",
              "</table>\n",
              "</div>\n",
              "    <div class=\"colab-df-buttons\">\n",
              "\n",
              "  <div class=\"colab-df-container\">\n",
              "    <button class=\"colab-df-convert\" onclick=\"convertToInteractive('df-e449cfcc-6048-4425-baa5-d728422a4445')\"\n",
              "            title=\"Convert this dataframe to an interactive table.\"\n",
              "            style=\"display:none;\">\n",
              "\n",
              "  <svg xmlns=\"http://www.w3.org/2000/svg\" height=\"24px\" viewBox=\"0 -960 960 960\">\n",
              "    <path d=\"M120-120v-720h720v720H120Zm60-500h600v-160H180v160Zm220 220h160v-160H400v160Zm0 220h160v-160H400v160ZM180-400h160v-160H180v160Zm440 0h160v-160H620v160ZM180-180h160v-160H180v160Zm440 0h160v-160H620v160Z\"/>\n",
              "  </svg>\n",
              "    </button>\n",
              "\n",
              "  <style>\n",
              "    .colab-df-container {\n",
              "      display:flex;\n",
              "      gap: 12px;\n",
              "    }\n",
              "\n",
              "    .colab-df-convert {\n",
              "      background-color: #E8F0FE;\n",
              "      border: none;\n",
              "      border-radius: 50%;\n",
              "      cursor: pointer;\n",
              "      display: none;\n",
              "      fill: #1967D2;\n",
              "      height: 32px;\n",
              "      padding: 0 0 0 0;\n",
              "      width: 32px;\n",
              "    }\n",
              "\n",
              "    .colab-df-convert:hover {\n",
              "      background-color: #E2EBFA;\n",
              "      box-shadow: 0px 1px 2px rgba(60, 64, 67, 0.3), 0px 1px 3px 1px rgba(60, 64, 67, 0.15);\n",
              "      fill: #174EA6;\n",
              "    }\n",
              "\n",
              "    .colab-df-buttons div {\n",
              "      margin-bottom: 4px;\n",
              "    }\n",
              "\n",
              "    [theme=dark] .colab-df-convert {\n",
              "      background-color: #3B4455;\n",
              "      fill: #D2E3FC;\n",
              "    }\n",
              "\n",
              "    [theme=dark] .colab-df-convert:hover {\n",
              "      background-color: #434B5C;\n",
              "      box-shadow: 0px 1px 3px 1px rgba(0, 0, 0, 0.15);\n",
              "      filter: drop-shadow(0px 1px 2px rgba(0, 0, 0, 0.3));\n",
              "      fill: #FFFFFF;\n",
              "    }\n",
              "  </style>\n",
              "\n",
              "    <script>\n",
              "      const buttonEl =\n",
              "        document.querySelector('#df-e449cfcc-6048-4425-baa5-d728422a4445 button.colab-df-convert');\n",
              "      buttonEl.style.display =\n",
              "        google.colab.kernel.accessAllowed ? 'block' : 'none';\n",
              "\n",
              "      async function convertToInteractive(key) {\n",
              "        const element = document.querySelector('#df-e449cfcc-6048-4425-baa5-d728422a4445');\n",
              "        const dataTable =\n",
              "          await google.colab.kernel.invokeFunction('convertToInteractive',\n",
              "                                                    [key], {});\n",
              "        if (!dataTable) return;\n",
              "\n",
              "        const docLinkHtml = 'Like what you see? Visit the ' +\n",
              "          '<a target=\"_blank\" href=https://colab.research.google.com/notebooks/data_table.ipynb>data table notebook</a>'\n",
              "          + ' to learn more about interactive tables.';\n",
              "        element.innerHTML = '';\n",
              "        dataTable['output_type'] = 'display_data';\n",
              "        await google.colab.output.renderOutput(dataTable, element);\n",
              "        const docLink = document.createElement('div');\n",
              "        docLink.innerHTML = docLinkHtml;\n",
              "        element.appendChild(docLink);\n",
              "      }\n",
              "    </script>\n",
              "  </div>\n",
              "\n",
              "\n",
              "    <div id=\"df-72fc13bd-cdb8-49d3-bdc5-6fbdf9522150\">\n",
              "      <button class=\"colab-df-quickchart\" onclick=\"quickchart('df-72fc13bd-cdb8-49d3-bdc5-6fbdf9522150')\"\n",
              "                title=\"Suggest charts\"\n",
              "                style=\"display:none;\">\n",
              "\n",
              "<svg xmlns=\"http://www.w3.org/2000/svg\" height=\"24px\"viewBox=\"0 0 24 24\"\n",
              "     width=\"24px\">\n",
              "    <g>\n",
              "        <path d=\"M19 3H5c-1.1 0-2 .9-2 2v14c0 1.1.9 2 2 2h14c1.1 0 2-.9 2-2V5c0-1.1-.9-2-2-2zM9 17H7v-7h2v7zm4 0h-2V7h2v10zm4 0h-2v-4h2v4z\"/>\n",
              "    </g>\n",
              "</svg>\n",
              "      </button>\n",
              "\n",
              "<style>\n",
              "  .colab-df-quickchart {\n",
              "      --bg-color: #E8F0FE;\n",
              "      --fill-color: #1967D2;\n",
              "      --hover-bg-color: #E2EBFA;\n",
              "      --hover-fill-color: #174EA6;\n",
              "      --disabled-fill-color: #AAA;\n",
              "      --disabled-bg-color: #DDD;\n",
              "  }\n",
              "\n",
              "  [theme=dark] .colab-df-quickchart {\n",
              "      --bg-color: #3B4455;\n",
              "      --fill-color: #D2E3FC;\n",
              "      --hover-bg-color: #434B5C;\n",
              "      --hover-fill-color: #FFFFFF;\n",
              "      --disabled-bg-color: #3B4455;\n",
              "      --disabled-fill-color: #666;\n",
              "  }\n",
              "\n",
              "  .colab-df-quickchart {\n",
              "    background-color: var(--bg-color);\n",
              "    border: none;\n",
              "    border-radius: 50%;\n",
              "    cursor: pointer;\n",
              "    display: none;\n",
              "    fill: var(--fill-color);\n",
              "    height: 32px;\n",
              "    padding: 0;\n",
              "    width: 32px;\n",
              "  }\n",
              "\n",
              "  .colab-df-quickchart:hover {\n",
              "    background-color: var(--hover-bg-color);\n",
              "    box-shadow: 0 1px 2px rgba(60, 64, 67, 0.3), 0 1px 3px 1px rgba(60, 64, 67, 0.15);\n",
              "    fill: var(--button-hover-fill-color);\n",
              "  }\n",
              "\n",
              "  .colab-df-quickchart-complete:disabled,\n",
              "  .colab-df-quickchart-complete:disabled:hover {\n",
              "    background-color: var(--disabled-bg-color);\n",
              "    fill: var(--disabled-fill-color);\n",
              "    box-shadow: none;\n",
              "  }\n",
              "\n",
              "  .colab-df-spinner {\n",
              "    border: 2px solid var(--fill-color);\n",
              "    border-color: transparent;\n",
              "    border-bottom-color: var(--fill-color);\n",
              "    animation:\n",
              "      spin 1s steps(1) infinite;\n",
              "  }\n",
              "\n",
              "  @keyframes spin {\n",
              "    0% {\n",
              "      border-color: transparent;\n",
              "      border-bottom-color: var(--fill-color);\n",
              "      border-left-color: var(--fill-color);\n",
              "    }\n",
              "    20% {\n",
              "      border-color: transparent;\n",
              "      border-left-color: var(--fill-color);\n",
              "      border-top-color: var(--fill-color);\n",
              "    }\n",
              "    30% {\n",
              "      border-color: transparent;\n",
              "      border-left-color: var(--fill-color);\n",
              "      border-top-color: var(--fill-color);\n",
              "      border-right-color: var(--fill-color);\n",
              "    }\n",
              "    40% {\n",
              "      border-color: transparent;\n",
              "      border-right-color: var(--fill-color);\n",
              "      border-top-color: var(--fill-color);\n",
              "    }\n",
              "    60% {\n",
              "      border-color: transparent;\n",
              "      border-right-color: var(--fill-color);\n",
              "    }\n",
              "    80% {\n",
              "      border-color: transparent;\n",
              "      border-right-color: var(--fill-color);\n",
              "      border-bottom-color: var(--fill-color);\n",
              "    }\n",
              "    90% {\n",
              "      border-color: transparent;\n",
              "      border-bottom-color: var(--fill-color);\n",
              "    }\n",
              "  }\n",
              "</style>\n",
              "\n",
              "      <script>\n",
              "        async function quickchart(key) {\n",
              "          const quickchartButtonEl =\n",
              "            document.querySelector('#' + key + ' button');\n",
              "          quickchartButtonEl.disabled = true;  // To prevent multiple clicks.\n",
              "          quickchartButtonEl.classList.add('colab-df-spinner');\n",
              "          try {\n",
              "            const charts = await google.colab.kernel.invokeFunction(\n",
              "                'suggestCharts', [key], {});\n",
              "          } catch (error) {\n",
              "            console.error('Error during call to suggestCharts:', error);\n",
              "          }\n",
              "          quickchartButtonEl.classList.remove('colab-df-spinner');\n",
              "          quickchartButtonEl.classList.add('colab-df-quickchart-complete');\n",
              "        }\n",
              "        (() => {\n",
              "          let quickchartButtonEl =\n",
              "            document.querySelector('#df-72fc13bd-cdb8-49d3-bdc5-6fbdf9522150 button');\n",
              "          quickchartButtonEl.style.display =\n",
              "            google.colab.kernel.accessAllowed ? 'block' : 'none';\n",
              "        })();\n",
              "      </script>\n",
              "    </div>\n",
              "\n",
              "    </div>\n",
              "  </div>\n"
            ],
            "application/vnd.google.colaboratory.intrinsic+json": {
              "type": "dataframe",
              "variable_name": "circles",
              "summary": "{\n  \"name\": \"circles\",\n  \"rows\": 1000,\n  \"fields\": [\n    {\n      \"column\": \"X1\",\n      \"properties\": {\n        \"dtype\": \"number\",\n        \"std\": 0.6398365674574611,\n        \"min\": -1.0595024599098635,\n        \"max\": 1.0337117525463373,\n        \"num_unique_values\": 1000,\n        \"samples\": [\n          -0.3751930206933384,\n          0.015380346701456493,\n          -0.7027835978832848\n        ],\n        \"semantic_type\": \"\",\n        \"description\": \"\"\n      }\n    },\n    {\n      \"column\": \"X2\",\n      \"properties\": {\n        \"dtype\": \"number\",\n        \"std\": 0.6411559581015379,\n        \"min\": -1.0677683182718436,\n        \"max\": 1.0360036756154805,\n        \"num_unique_values\": 1000,\n        \"samples\": [\n          0.6826597225888621,\n          0.9600260220697324,\n          -0.3147169925147762\n        ],\n        \"semantic_type\": \"\",\n        \"description\": \"\"\n      }\n    },\n    {\n      \"column\": \"label\",\n      \"properties\": {\n        \"dtype\": \"number\",\n        \"std\": 0,\n        \"min\": 0,\n        \"max\": 1,\n        \"num_unique_values\": 2,\n        \"samples\": [\n          0,\n          1\n        ],\n        \"semantic_type\": \"\",\n        \"description\": \"\"\n      }\n    }\n  ]\n}"
            }
          },
          "metadata": {},
          "execution_count": 35
        }
      ]
    },
    {
      "source": [
        "# How about visualizing X1 vs X2\n",
        "\n",
        "from matplotlib import pyplot as plt\n",
        "plt.scatter(x = X[:, 0],\n",
        "            y = X[:, 1],\n",
        "            c=y,\n",
        "            cmap=plt.cm.RdYlBu)"
      ],
      "cell_type": "code",
      "execution_count": 36,
      "outputs": [
        {
          "output_type": "execute_result",
          "data": {
            "text/plain": [
              "<matplotlib.collections.PathCollection at 0x7c9af55c2790>"
            ]
          },
          "metadata": {},
          "execution_count": 36
        },
        {
          "output_type": "display_data",
          "data": {
            "text/plain": [
              "<Figure size 640x480 with 1 Axes>"
            ],
            "image/png": "[encoded data removed]"
          },
          "metadata": {}
        }
      ],
      "metadata": {
        "id": "Gcwkz8UjkrdG",
        "outputId": "49415a4a-2115-4f6d-8b0f-2f133ee3a4dd",
        "colab": {
          "base_uri": "https://localhost:8080/",
          "height": 0
        }
      },
      "id": "Gcwkz8UjkrdG"
    },
    {
      "cell_type": "markdown",
      "source": [
        "Our toy dataset is composed of points belonging to 1 circle or another. Can we train our network to distinguish between red points and blue points?"
      ],
      "metadata": {
        "id": "JcmG-CP_kYPv"
      },
      "id": "JcmG-CP_kYPv"
    },
    {
      "cell_type": "markdown",
      "source": [
        "Let's check data shapes"
      ],
      "metadata": {
        "id": "cxzOrbollnV-"
      },
      "id": "cxzOrbollnV-"
    },
    {
      "cell_type": "code",
      "source": [
        "X.shape, y.shape"
      ],
      "metadata": {
        "id": "dFvzSKptmQXB",
        "outputId": "6602ff1a-4dd7-4288-f93b-9beddbd80668",
        "colab": {
          "base_uri": "https://localhost:8080/"
        }
      },
      "id": "dFvzSKptmQXB",
      "execution_count": 37,
      "outputs": [
        {
          "output_type": "execute_result",
          "data": {
            "text/plain": [
              "((1000, 2), (1000,))"
            ]
          },
          "metadata": {},
          "execution_count": 37
        }
      ]
    },
    {
      "cell_type": "markdown",
      "source": [
        "$2$ is the number of features representing our data; in this case just $2$, but could be waaaay bigger."
      ],
      "metadata": {
        "id": "ghqbJ6R1mRxp"
      },
      "id": "ghqbJ6R1mRxp"
    },
    {
      "cell_type": "code",
      "source": [
        "# View the first example of features and labels\n",
        "X_sample = X[0]\n",
        "y_sample = y[0]\n",
        "print(f\"Values for one sample of X: {X_sample} and the same for y: {y_sample}\")\n",
        "print(f\"Shapes for one sample of X: {X_sample.shape} and the same for y: {y_sample.shape}\")"
      ],
      "metadata": {
        "id": "zEOWWNxbmdfe",
        "outputId": "720454e4-8d8a-48e9-d593-e6dfe1b7a3fb",
        "colab": {
          "base_uri": "https://localhost:8080/"
        }
      },
      "id": "zEOWWNxbmdfe",
      "execution_count": 38,
      "outputs": [
        {
          "output_type": "stream",
          "name": "stdout",
          "text": [
            "Values for one sample of X: [0.75424625 0.23148074] and the same for y: 1\n",
            "Shapes for one sample of X: (2,) and the same for y: ()\n"
          ]
        }
      ]
    },
    {
      "cell_type": "markdown",
      "source": [
        "### 1.2 Turn Data into Tensors"
      ],
      "metadata": {
        "id": "8dAJ8xWTpBU_"
      },
      "id": "8dAJ8xWTpBU_"
    },
    {
      "cell_type": "code",
      "source": [
        "import torch\n",
        "\n",
        "# device agnostic code\n",
        "device = \"cuda\" if torch.cuda.is_available() else \"cpu\"\n",
        "print(f\"Using device: {device}\")\n",
        "\n",
        "X = torch.from_numpy(X).type(torch.float) # to have torch.float32, otherwise would be torch.float64\n",
        "y = torch.from_numpy(y).type(torch.float)\n",
        "\n",
        "X[:5], y[:5]\n"
      ],
      "metadata": {
        "id": "wRAmk7XlmriV",
        "outputId": "ce431308-566a-4306-bb17-6430f9d92d96",
        "colab": {
          "base_uri": "https://localhost:8080/"
        }
      },
      "id": "wRAmk7XlmriV",
      "execution_count": 39,
      "outputs": [
        {
          "output_type": "stream",
          "name": "stdout",
          "text": [
            "Using device: cuda\n"
          ]
        },
        {
          "output_type": "execute_result",
          "data": {
            "text/plain": [
              "(tensor([[ 0.7542,  0.2315],\n",
              "         [-0.7562,  0.1533],\n",
              "         [-0.8154,  0.1733],\n",
              "         [-0.3937,  0.6929],\n",
              "         [ 0.4422, -0.8967]]),\n",
              " tensor([1., 1., 1., 1., 0.]))"
            ]
          },
          "metadata": {},
          "execution_count": 39
        }
      ]
    },
    {
      "cell_type": "code",
      "source": [
        "X = X.to(device)\n",
        "y = y.to(device)"
      ],
      "metadata": {
        "id": "zN6xencbnYf6"
      },
      "id": "zN6xencbnYf6",
      "execution_count": 40,
      "outputs": []
    },
    {
      "cell_type": "markdown",
      "source": [
        "### 1.3 Split Data into Training and Test"
      ],
      "metadata": {
        "id": "D6AUY_O-ogRx"
      },
      "id": "D6AUY_O-ogRx"
    },
    {
      "cell_type": "code",
      "source": [
        "# Use sklearn to split\n",
        "from sklearn.model_selection import train_test_split\n",
        "\n",
        "# just one line in sk learn\n",
        "X_train, X_test, y_train, y_test = train_test_split(X, y, test_size=0.2, random_state=42)  # ordering of returns is fixed to this one\n",
        "\n",
        "len(X_train), len(X_test), len(y_train), len(y_test)"
      ],
      "metadata": {
        "id": "5O92w9I2pJSv",
        "outputId": "7cc0871b-9c90-4537-a781-04b512e42352",
        "colab": {
          "base_uri": "https://localhost:8080/"
        }
      },
      "id": "5O92w9I2pJSv",
      "execution_count": 41,
      "outputs": [
        {
          "output_type": "execute_result",
          "data": {
            "text/plain": [
              "(800, 200, 800, 200)"
            ]
          },
          "metadata": {},
          "execution_count": 41
        }
      ]
    },
    {
      "cell_type": "markdown",
      "source": [
        "## 2. Building a Classifier"
      ],
      "metadata": {
        "id": "r7GX6zUYpYzP"
      },
      "id": "r7GX6zUYpYzP"
    },
    {
      "cell_type": "code",
      "source": [
        "# import torch\n",
        "\n",
        "import torch\n",
        "from torch import nn\n",
        "\n",
        "# device agnostic (already did above, just for clarity)\n",
        "device = \"cuda\" if torch.cuda.is_available() else \"cpu\"\n",
        "print(f\"Using device: {device}\")\n",
        "\n",
        "\n",
        "# build model class\n",
        "\n",
        "class CircleModelV0(nn.Module):\n",
        "  def __init__(self):\n",
        "    super().__init__()\n",
        "    self.layer1 = nn.Linear(in_features=2, out_features=5)  # we want to create two linear layers so 2 -> 5\n",
        "    self.layer2 = nn.Linear(in_features=5, out_features=1)  # then 5 -> 1\n",
        "\n",
        "  # define forward() method\n",
        "  def forward(self, x):\n",
        "    return self.layer2(self.layer1(x))\n",
        "\n",
        "\n",
        "# instantiate a model\n",
        "model_0 = CircleModelV0().to(device)\n",
        "model_0"
      ],
      "metadata": {
        "id": "Un1hHw9Tpwgh",
        "outputId": "0e09e160-eddc-4fb0-b8bb-d7120c77aac8",
        "colab": {
          "base_uri": "https://localhost:8080/"
        }
      },
      "id": "Un1hHw9Tpwgh",
      "execution_count": 42,
      "outputs": [
        {
          "output_type": "stream",
          "name": "stdout",
          "text": [
            "Using device: cuda\n"
          ]
        },
        {
          "output_type": "execute_result",
          "data": {
            "text/plain": [
              "CircleModelV0(\n",
              "  (layer1): Linear(in_features=2, out_features=5, bias=True)\n",
              "  (layer2): Linear(in_features=5, out_features=1, bias=True)\n",
              ")"
            ]
          },
          "metadata": {},
          "execution_count": 42
        }
      ]
    },
    {
      "cell_type": "code",
      "source": [
        "# Let's replicate using nn.Sequential() - standard torch andjust better overall\n",
        "\n",
        "# import torch\n",
        "\n",
        "import torch\n",
        "from torch import nn\n",
        "\n",
        "device = \"cuda\" if torch.cuda.is_available() else \"cpu\"\n",
        "print(f\"Using device: {device}\")\n",
        "\n",
        "class CircleModelV0(nn.Module):\n",
        "  def __init__(self):\n",
        "    super().__init__()\n",
        "\n",
        "    self.linear_layers = nn.Sequential(  # equivalent to above\n",
        "        nn.Linear(in_features=2, out_features=5),\n",
        "        nn.Linear(in_features=5, out_features=1)\n",
        "    )\n",
        "\n",
        "  def forward(self, x):\n",
        "    return self.linear_layers(x)\n",
        "\n",
        "\n",
        "# instantiate a model\n",
        "model_0 = CircleModelV0().to(device)\n",
        "model_0"
      ],
      "metadata": {
        "id": "FxzqJSH3rIR4",
        "outputId": "84ee2d74-c5b0-4191-f586-72d04fb0a7ca",
        "colab": {
          "base_uri": "https://localhost:8080/"
        }
      },
      "id": "FxzqJSH3rIR4",
      "execution_count": 43,
      "outputs": [
        {
          "output_type": "stream",
          "name": "stdout",
          "text": [
            "Using device: cuda\n"
          ]
        },
        {
          "output_type": "execute_result",
          "data": {
            "text/plain": [
              "CircleModelV0(\n",
              "  (linear_layers): Sequential(\n",
              "    (0): Linear(in_features=2, out_features=5, bias=True)\n",
              "    (1): Linear(in_features=5, out_features=1, bias=True)\n",
              "  )\n",
              ")"
            ]
          },
          "metadata": {},
          "execution_count": 43
        }
      ]
    },
    {
      "cell_type": "code",
      "source": [
        "# make some untrained predictions\n",
        "\n",
        "with torch.inference_mode():\n",
        "  untrained_preds = model_0.forward(X_test)\n",
        "\n",
        "untrained_preds[:10]"
      ],
      "metadata": {
        "id": "i21C8fnJVdOo",
        "outputId": "926b72b9-6b68-4e0e-ab9c-e3c3610f899b",
        "colab": {
          "base_uri": "https://localhost:8080/"
        }
      },
      "id": "i21C8fnJVdOo",
      "execution_count": 44,
      "outputs": [
        {
          "output_type": "execute_result",
          "data": {
            "text/plain": [
              "tensor([[-0.0477],\n",
              "        [ 0.1137],\n",
              "        [-0.4259],\n",
              "        [ 0.0593],\n",
              "        [-0.3548],\n",
              "        [-0.2569],\n",
              "        [ 0.1411],\n",
              "        [ 0.0545],\n",
              "        [-0.4283],\n",
              "        [ 0.1253]], device='cuda:0')"
            ]
          },
          "metadata": {},
          "execution_count": 44
        }
      ]
    },
    {
      "cell_type": "code",
      "source": [
        "# of course right now they will be wrong since we didn't train\n",
        "\n",
        "y_test[:10]"
      ],
      "metadata": {
        "id": "sZJCCtwxWhTY",
        "outputId": "7af24c8f-b888-421f-cb7f-995dc8c9514c",
        "colab": {
          "base_uri": "https://localhost:8080/"
        }
      },
      "id": "sZJCCtwxWhTY",
      "execution_count": 45,
      "outputs": [
        {
          "output_type": "execute_result",
          "data": {
            "text/plain": [
              "tensor([1., 0., 1., 0., 1., 1., 0., 0., 1., 0.], device='cuda:0')"
            ]
          },
          "metadata": {},
          "execution_count": 45
        }
      ]
    },
    {
      "cell_type": "markdown",
      "source": [
        "Notice that the outputs from our model (`untrained_preds`) are not whole numbers, and they don't directly match the ground truth labels, which are 0s and 1s in this case.\n",
        "\n",
        "This is expected. First of all, we haven't trained the model yet, so its weights are still random. But *even in a trained model, the outputs are usually not class labels*. Instead, the model returns continuous values that we often refer to as **logits**.\n",
        "\n",
        "In binary classification, when we apply a sigmoid activation function to the logits, we get values between 0 and 1. These can be interpreted as the model's confidence (or probability) that the input belongs to class 1. For example, a prediction of $0.72$ means the model is $72 \\%$ confident the input should be classified as class 1."
      ],
      "metadata": {
        "id": "xexz4qnAWzfh"
      },
      "id": "xexz4qnAWzfh"
    },
    {
      "cell_type": "code",
      "source": [
        "# output = logits ---sigmoid---> probabilities\n",
        "y_probs = torch.sigmoid(untrained_preds)\n",
        "y_probs[:10]"
      ],
      "metadata": {
        "id": "DLuRfQ9_dpdv",
        "outputId": "81dd0f86-b27e-491e-bb1c-1d7a6d7fd9e7",
        "colab": {
          "base_uri": "https://localhost:8080/"
        }
      },
      "id": "DLuRfQ9_dpdv",
      "execution_count": 46,
      "outputs": [
        {
          "output_type": "execute_result",
          "data": {
            "text/plain": [
              "tensor([[0.4881],\n",
              "        [0.5284],\n",
              "        [0.3951],\n",
              "        [0.5148],\n",
              "        [0.4122],\n",
              "        [0.4361],\n",
              "        [0.5352],\n",
              "        [0.5136],\n",
              "        [0.3945],\n",
              "        [0.5313]], device='cuda:0')"
            ]
          },
          "metadata": {},
          "execution_count": 46
        }
      ]
    },
    {
      "cell_type": "markdown",
      "source": [
        "\n",
        "\n",
        "To compare predictions to the ground truth, we usually apply a threshold (often $0.5$) to convert the output into a class label: values above the threshold are interpreted as class 1, and values below as class 0.\n",
        "\n",
        "\n",
        "\n"
      ],
      "metadata": {
        "id": "SyEOOkzadqMB"
      },
      "id": "SyEOOkzadqMB"
    },
    {
      "cell_type": "code",
      "source": [
        "torch.round(y_probs)[:10]   # will be wrong (untrained)"
      ],
      "metadata": {
        "id": "RNm6gFKad0Wq",
        "outputId": "4404f7d1-e895-4793-d806-c26c15a98166",
        "colab": {
          "base_uri": "https://localhost:8080/"
        }
      },
      "id": "RNm6gFKad0Wq",
      "execution_count": 47,
      "outputs": [
        {
          "output_type": "execute_result",
          "data": {
            "text/plain": [
              "tensor([[0.],\n",
              "        [1.],\n",
              "        [0.],\n",
              "        [1.],\n",
              "        [0.],\n",
              "        [0.],\n",
              "        [1.],\n",
              "        [1.],\n",
              "        [0.],\n",
              "        [1.]], device='cuda:0')"
            ]
          },
          "metadata": {},
          "execution_count": 47
        }
      ]
    },
    {
      "cell_type": "markdown",
      "source": [
        "\n",
        "In multiclass classification, we use a softmax function instead of a sigmoid. This transforms the logits into a probability distribution across all possible classes.\n",
        "\n",
        "So, the important point is that neural networks typically output continuous values, and we must interpret or post-process them to obtain final class predictions.\n",
        "\n",
        "For a deeper dive, see **entropic theory of info LINK!**"
      ],
      "metadata": {
        "id": "55_7UkI3d06J"
      },
      "id": "55_7UkI3d06J"
    },
    {
      "cell_type": "markdown",
      "source": [
        "So, knowing this, we should choose our loss accordingly. We basically want to aply a sigmoid layer to our outputs and then compute the loss on these probabilities. Fortunately, torch's [`nn.BCEWithLogitsLoss()`](https://docs.pytorch.org/docs/stable/generated/torch.nn.BCEWithLogitsLoss.html#bcewithlogitsloss) does both steps for us: it applies a sigmoid function to our layer and then computes the *Cross Entropy Loss*."
      ],
      "metadata": {
        "id": "9DVe4-AaafSp"
      },
      "id": "9DVe4-AaafSp"
    },
    {
      "cell_type": "markdown",
      "source": [
        "> **Note:** There exists also a method called [`.nn.BCELoss()](`https://docs.pytorch.org/docs/stable/generated/torch.nn.BCELoss.html#bceloss), that doesn't automatically apply the sigmoid function. As a result, it is more numerically unstable and `BCEWithLogitsLoss()` should be the preferred choice.   "
      ],
      "metadata": {
        "id": "aLW5DLLnbP-7"
      },
      "id": "aLW5DLLnbP-7"
    },
    {
      "cell_type": "code",
      "source": [
        "# setup the loss function\n",
        "loss_fn = nn.BCEWithLogitsLoss()\n",
        "\n",
        "# setup optimizer\n",
        "optimizer = torch.optim.SGD(params=model_0.parameters(),\n",
        "                              lr=0.1)"
      ],
      "metadata": {
        "id": "-Qs1XFTucQOv"
      },
      "id": "-Qs1XFTucQOv",
      "execution_count": 48,
      "outputs": []
    },
    {
      "cell_type": "markdown",
      "source": [
        "The last thing we could do is set up an evaluation metric, for example an accuracy function. It gives us the same info as the loss, but from a different perspective."
      ],
      "metadata": {
        "id": "159brAnkcetO"
      },
      "id": "159brAnkcetO"
    },
    {
      "cell_type": "code",
      "source": [
        "def accuracy_fn(y_pred, y_true):  # we could use sklearn accuracy, but let's use ours this time\n",
        "  n_correct = torch.eq(y_pred, y_true).sum().item()\n",
        "  acc = (n_correct / len(y_pred)) * 100\n",
        "  return acc"
      ],
      "metadata": {
        "id": "QTMdRqONc3kl"
      },
      "id": "QTMdRqONc3kl",
      "execution_count": 49,
      "outputs": []
    },
    {
      "cell_type": "markdown",
      "source": [
        "## 3. Train Model"
      ],
      "metadata": {
        "id": "kn2uLUDCdM2O"
      },
      "id": "kn2uLUDCdM2O"
    },
    {
      "cell_type": "code",
      "source": [
        "torch.manual_seed(42)\n",
        "\n",
        "def train_model(model, X_train, X_test, y_train, y_test, epochs, optimizer, loss_fn):\n",
        "\n",
        "  train_loss_values = []\n",
        "  eval_loss_values = []\n",
        "  train_accuracy_values = []\n",
        "  eval_accuracy_values = []\n",
        "\n",
        "  for epoch in range(epochs):\n",
        "\n",
        "    ## Training\n",
        "    model.train() # 1. train mode\n",
        "\n",
        "    logits = model(X_train).squeeze() # 2. forward pass: squeeze to remove extra `1` dimensions - this won't work unless model and data are on same device\n",
        "\n",
        "    train_loss = loss_fn(logits, y_train) # 3. compute the loss\n",
        "\n",
        "    optimizer.zero_grad() # 4. zero out gradients before .backward()\n",
        "\n",
        "    train_loss.backward() # 5. backpropagation\n",
        "\n",
        "    optimizer.step()  # 6. optimize\n",
        "\n",
        "    # let's compute predictions by hand as well, in order to compute accuracy\n",
        "    y_pred = torch.round(torch.sigmoid(logits))\n",
        "    train_acc = accuracy_fn(y_pred=y_pred, y_true=y_train)\n",
        "\n",
        "    train_loss_values.append(train_loss.detach().item())  # tensor & on gpu\n",
        "    train_accuracy_values.append(train_acc)\n",
        "\n",
        "\n",
        "    ## Validation\n",
        "    model.eval()\n",
        "\n",
        "    with torch.no_grad():\n",
        "      eval_logits = model(X_test).squeeze()\n",
        "\n",
        "      eval_loss = loss_fn(eval_logits, y_test)\n",
        "\n",
        "      # since we are computing accuracy:\n",
        "      y_pred_eval = torch.round(torch.sigmoid(eval_logits))\n",
        "      eval_acc = accuracy_fn(y_pred=y_pred_eval, y_true=y_test)\n",
        "\n",
        "      eval_loss_values.append(eval_loss.detach().item())\n",
        "      eval_accuracy_values.append(eval_acc)\n",
        "\n",
        "    print(f\"Epoch [{epoch} / {epochs}]\\ntraining loss : {train_loss.detach().item():.5f}\\nvalidation loss : {eval_loss.detach().item():.5f}\")\n"
      ],
      "metadata": {
        "id": "pD-_RcqMdRyC"
      },
      "id": "pD-_RcqMdRyC",
      "execution_count": 56,
      "outputs": []
    },
    {
      "cell_type": "code",
      "source": [
        "# for visualization let's use an helper function\n",
        "\n",
        "import matplotlib.pyplot as plt\n",
        "\n",
        "import requests\n",
        "from pathlib import Path\n",
        "\n",
        "# Download helper functions from Learn PyTorch repo (if not already downloaded)\n",
        "if Path(\"helper_functions.py\").is_file():\n",
        "  print(\"helper_functions.py already exists, skipping download\")\n",
        "else:\n",
        "  print(\"Downloading helper_functions.py\")\n",
        "  request = requests.get(\"https://raw.githubusercontent.com/mrdbourke/pytorch-deep-learning/main/helper_functions.py\")\n",
        "  with open(\"helper_functions.py\", \"wb\") as f:\n",
        "    f.write(request.content)\n",
        "\n",
        "from helper_functions import plot_predictions, plot_decision_boundary"
      ],
      "metadata": {
        "id": "vwVnX0VeeVTe",
        "outputId": "510fc73a-9aff-49bc-97a2-5e98a8e23f32",
        "colab": {
          "base_uri": "https://localhost:8080/"
        }
      },
      "id": "vwVnX0VeeVTe",
      "execution_count": 51,
      "outputs": [
        {
          "output_type": "stream",
          "name": "stdout",
          "text": [
            "helper_functions.py already exists, skipping download\n"
          ]
        }
      ]
    },
    {
      "cell_type": "code",
      "source": [
        "# Let's train!\n",
        "\n",
        "print(f\"Training on device {device}\")\n",
        "model = CircleModelV0().to(device)\n",
        "\n",
        "train_model(model=model, X_train=X_train, X_test=X_test, y_train=y_train, y_test=y_test, epochs=100, optimizer=optimizer, loss_fn=loss_fn)"
      ],
      "metadata": {
        "id": "c4wQNm6Dkd1T",
        "outputId": "dc08b807-4848-4856-8b5b-97a50c11284c",
        "colab": {
          "base_uri": "https://localhost:8080/"
        }
      },
      "id": "c4wQNm6Dkd1T",
      "execution_count": 57,
      "outputs": [
        {
          "output_type": "stream",
          "name": "stdout",
          "text": [
            "Training on device cuda\n",
            "Epoch [0 / 100]\n",
            "training loss : 0.69569\n",
            "validation loss : 0.69741\n",
            "Epoch [1 / 100]\n",
            "training loss : 0.69569\n",
            "validation loss : 0.69741\n",
            "Epoch [2 / 100]\n",
            "training loss : 0.69569\n",
            "validation loss : 0.69741\n",
            "Epoch [3 / 100]\n",
            "training loss : 0.69569\n",
            "validation loss : 0.69741\n",
            "Epoch [4 / 100]\n",
            "training loss : 0.69569\n",
            "validation loss : 0.69741\n",
            "Epoch [5 / 100]\n",
            "training loss : 0.69569\n",
            "validation loss : 0.69741\n",
            "Epoch [6 / 100]\n",
            "training loss : 0.69569\n",
            "validation loss : 0.69741\n",
            "Epoch [7 / 100]\n",
            "training loss : 0.69569\n",
            "validation loss : 0.69741\n",
            "Epoch [8 / 100]\n",
            "training loss : 0.69569\n",
            "validation loss : 0.69741\n",
            "Epoch [9 / 100]\n",
            "training loss : 0.69569\n",
            "validation loss : 0.69741\n",
            "Epoch [10 / 100]\n",
            "training loss : 0.69569\n",
            "validation loss : 0.69741\n",
            "Epoch [11 / 100]\n",
            "training loss : 0.69569\n",
            "validation loss : 0.69741\n",
            "Epoch [12 / 100]\n",
            "training loss : 0.69569\n",
            "validation loss : 0.69741\n",
            "Epoch [13 / 100]\n",
            "training loss : 0.69569\n",
            "validation loss : 0.69741\n",
            "Epoch [14 / 100]\n",
            "training loss : 0.69569\n",
            "validation loss : 0.69741\n",
            "Epoch [15 / 100]\n",
            "training loss : 0.69569\n",
            "validation loss : 0.69741\n",
            "Epoch [16 / 100]\n",
            "training loss : 0.69569\n",
            "validation loss : 0.69741\n",
            "Epoch [17 / 100]\n",
            "training loss : 0.69569\n",
            "validation loss : 0.69741\n",
            "Epoch [18 / 100]\n",
            "training loss : 0.69569\n",
            "validation loss : 0.69741\n",
            "Epoch [19 / 100]\n",
            "training loss : 0.69569\n",
            "validation loss : 0.69741\n",
            "Epoch [20 / 100]\n",
            "training loss : 0.69569\n",
            "validation loss : 0.69741\n",
            "Epoch [21 / 100]\n",
            "training loss : 0.69569\n",
            "validation loss : 0.69741\n",
            "Epoch [22 / 100]\n",
            "training loss : 0.69569\n",
            "validation loss : 0.69741\n",
            "Epoch [23 / 100]\n",
            "training loss : 0.69569\n",
            "validation loss : 0.69741\n",
            "Epoch [24 / 100]\n",
            "training loss : 0.69569\n",
            "validation loss : 0.69741\n",
            "Epoch [25 / 100]\n",
            "training loss : 0.69569\n",
            "validation loss : 0.69741\n",
            "Epoch [26 / 100]\n",
            "training loss : 0.69569\n",
            "validation loss : 0.69741\n",
            "Epoch [27 / 100]\n",
            "training loss : 0.69569\n",
            "validation loss : 0.69741\n",
            "Epoch [28 / 100]\n",
            "training loss : 0.69569\n",
            "validation loss : 0.69741\n",
            "Epoch [29 / 100]\n",
            "training loss : 0.69569\n",
            "validation loss : 0.69741\n",
            "Epoch [30 / 100]\n",
            "training loss : 0.69569\n",
            "validation loss : 0.69741\n",
            "Epoch [31 / 100]\n",
            "training loss : 0.69569\n",
            "validation loss : 0.69741\n",
            "Epoch [32 / 100]\n",
            "training loss : 0.69569\n",
            "validation loss : 0.69741\n",
            "Epoch [33 / 100]\n",
            "training loss : 0.69569\n",
            "validation loss : 0.69741\n",
            "Epoch [34 / 100]\n",
            "training loss : 0.69569\n",
            "validation loss : 0.69741\n",
            "Epoch [35 / 100]\n",
            "training loss : 0.69569\n",
            "validation loss : 0.69741\n",
            "Epoch [36 / 100]\n",
            "training loss : 0.69569\n",
            "validation loss : 0.69741\n",
            "Epoch [37 / 100]\n",
            "training loss : 0.69569\n",
            "validation loss : 0.69741\n",
            "Epoch [38 / 100]\n",
            "training loss : 0.69569\n",
            "validation loss : 0.69741\n",
            "Epoch [39 / 100]\n",
            "training loss : 0.69569\n",
            "validation loss : 0.69741\n",
            "Epoch [40 / 100]\n",
            "training loss : 0.69569\n",
            "validation loss : 0.69741\n",
            "Epoch [41 / 100]\n",
            "training loss : 0.69569\n",
            "validation loss : 0.69741\n",
            "Epoch [42 / 100]\n",
            "training loss : 0.69569\n",
            "validation loss : 0.69741\n",
            "Epoch [43 / 100]\n",
            "training loss : 0.69569\n",
            "validation loss : 0.69741\n",
            "Epoch [44 / 100]\n",
            "training loss : 0.69569\n",
            "validation loss : 0.69741\n",
            "Epoch [45 / 100]\n",
            "training loss : 0.69569\n",
            "validation loss : 0.69741\n",
            "Epoch [46 / 100]\n",
            "training loss : 0.69569\n",
            "validation loss : 0.69741\n",
            "Epoch [47 / 100]\n",
            "training loss : 0.69569\n",
            "validation loss : 0.69741\n",
            "Epoch [48 / 100]\n",
            "training loss : 0.69569\n",
            "validation loss : 0.69741\n",
            "Epoch [49 / 100]\n",
            "training loss : 0.69569\n",
            "validation loss : 0.69741\n",
            "Epoch [50 / 100]\n",
            "training loss : 0.69569\n",
            "validation loss : 0.69741\n",
            "Epoch [51 / 100]\n",
            "training loss : 0.69569\n",
            "validation loss : 0.69741\n",
            "Epoch [52 / 100]\n",
            "training loss : 0.69569\n",
            "validation loss : 0.69741\n",
            "Epoch [53 / 100]\n",
            "training loss : 0.69569\n",
            "validation loss : 0.69741\n",
            "Epoch [54 / 100]\n",
            "training loss : 0.69569\n",
            "validation loss : 0.69741\n",
            "Epoch [55 / 100]\n",
            "training loss : 0.69569\n",
            "validation loss : 0.69741\n",
            "Epoch [56 / 100]\n",
            "training loss : 0.69569\n",
            "validation loss : 0.69741\n",
            "Epoch [57 / 100]\n",
            "training loss : 0.69569\n",
            "validation loss : 0.69741\n",
            "Epoch [58 / 100]\n",
            "training loss : 0.69569\n",
            "validation loss : 0.69741\n",
            "Epoch [59 / 100]\n",
            "training loss : 0.69569\n",
            "validation loss : 0.69741\n",
            "Epoch [60 / 100]\n",
            "training loss : 0.69569\n",
            "validation loss : 0.69741\n",
            "Epoch [61 / 100]\n",
            "training loss : 0.69569\n",
            "validation loss : 0.69741\n",
            "Epoch [62 / 100]\n",
            "training loss : 0.69569\n",
            "validation loss : 0.69741\n",
            "Epoch [63 / 100]\n",
            "training loss : 0.69569\n",
            "validation loss : 0.69741\n",
            "Epoch [64 / 100]\n",
            "training loss : 0.69569\n",
            "validation loss : 0.69741\n",
            "Epoch [65 / 100]\n",
            "training loss : 0.69569\n",
            "validation loss : 0.69741\n",
            "Epoch [66 / 100]\n",
            "training loss : 0.69569\n",
            "validation loss : 0.69741\n",
            "Epoch [67 / 100]\n",
            "training loss : 0.69569\n",
            "validation loss : 0.69741\n",
            "Epoch [68 / 100]\n",
            "training loss : 0.69569\n",
            "validation loss : 0.69741\n",
            "Epoch [69 / 100]\n",
            "training loss : 0.69569\n",
            "validation loss : 0.69741\n",
            "Epoch [70 / 100]\n",
            "training loss : 0.69569\n",
            "validation loss : 0.69741\n",
            "Epoch [71 / 100]\n",
            "training loss : 0.69569\n",
            "validation loss : 0.69741\n",
            "Epoch [72 / 100]\n",
            "training loss : 0.69569\n",
            "validation loss : 0.69741\n",
            "Epoch [73 / 100]\n",
            "training loss : 0.69569\n",
            "validation loss : 0.69741\n",
            "Epoch [74 / 100]\n",
            "training loss : 0.69569\n",
            "validation loss : 0.69741\n",
            "Epoch [75 / 100]\n",
            "training loss : 0.69569\n",
            "validation loss : 0.69741\n",
            "Epoch [76 / 100]\n",
            "training loss : 0.69569\n",
            "validation loss : 0.69741\n",
            "Epoch [77 / 100]\n",
            "training loss : 0.69569\n",
            "validation loss : 0.69741\n",
            "Epoch [78 / 100]\n",
            "training loss : 0.69569\n",
            "validation loss : 0.69741\n",
            "Epoch [79 / 100]\n",
            "training loss : 0.69569\n",
            "validation loss : 0.69741\n",
            "Epoch [80 / 100]\n",
            "training loss : 0.69569\n",
            "validation loss : 0.69741\n",
            "Epoch [81 / 100]\n",
            "training loss : 0.69569\n",
            "validation loss : 0.69741\n",
            "Epoch [82 / 100]\n",
            "training loss : 0.69569\n",
            "validation loss : 0.69741\n",
            "Epoch [83 / 100]\n",
            "training loss : 0.69569\n",
            "validation loss : 0.69741\n",
            "Epoch [84 / 100]\n",
            "training loss : 0.69569\n",
            "validation loss : 0.69741\n",
            "Epoch [85 / 100]\n",
            "training loss : 0.69569\n",
            "validation loss : 0.69741\n",
            "Epoch [86 / 100]\n",
            "training loss : 0.69569\n",
            "validation loss : 0.69741\n",
            "Epoch [87 / 100]\n",
            "training loss : 0.69569\n",
            "validation loss : 0.69741\n",
            "Epoch [88 / 100]\n",
            "training loss : 0.69569\n",
            "validation loss : 0.69741\n",
            "Epoch [89 / 100]\n",
            "training loss : 0.69569\n",
            "validation loss : 0.69741\n",
            "Epoch [90 / 100]\n",
            "training loss : 0.69569\n",
            "validation loss : 0.69741\n",
            "Epoch [91 / 100]\n",
            "training loss : 0.69569\n",
            "validation loss : 0.69741\n",
            "Epoch [92 / 100]\n",
            "training loss : 0.69569\n",
            "validation loss : 0.69741\n",
            "Epoch [93 / 100]\n",
            "training loss : 0.69569\n",
            "validation loss : 0.69741\n",
            "Epoch [94 / 100]\n",
            "training loss : 0.69569\n",
            "validation loss : 0.69741\n",
            "Epoch [95 / 100]\n",
            "training loss : 0.69569\n",
            "validation loss : 0.69741\n",
            "Epoch [96 / 100]\n",
            "training loss : 0.69569\n",
            "validation loss : 0.69741\n",
            "Epoch [97 / 100]\n",
            "training loss : 0.69569\n",
            "validation loss : 0.69741\n",
            "Epoch [98 / 100]\n",
            "training loss : 0.69569\n",
            "validation loss : 0.69741\n",
            "Epoch [99 / 100]\n",
            "training loss : 0.69569\n",
            "validation loss : 0.69741\n"
          ]
        }
      ]
    },
    {
      "cell_type": "markdown",
      "source": [
        "Mmmhhhh... looks like it's not learning much... How about visualizing what it's learning?"
      ],
      "metadata": {
        "id": "r1bIPC26lmpb"
      },
      "id": "r1bIPC26lmpb"
    },
    {
      "cell_type": "code",
      "source": [
        "# Plot decision boundaries for training and test sets\n",
        "plt.figure(figsize=(12, 6))\n",
        "plt.subplot(1, 2, 1)\n",
        "plt.title(\"Train\")\n",
        "plot_decision_boundary(model_0, X_train, y_train)\n",
        "plt.subplot(1, 2, 2)\n",
        "plt.title(\"Test\")\n",
        "plot_decision_boundary(model_0, X_test, y_test)"
      ],
      "metadata": {
        "id": "IGiOkTK_kLl9",
        "outputId": "c3132496-db54-4b72-afe9-cde1835705ee",
        "colab": {
          "base_uri": "https://localhost:8080/",
          "height": 545
        }
      },
      "id": "IGiOkTK_kLl9",
      "execution_count": 58,
      "outputs": [
        {
          "output_type": "display_data",
          "data": {
            "text/plain": [
              "<Figure size 1200x600 with 2 Axes>"
            ],
            "image/png": "[encoded data removed]"
          },
          "metadata": {}
        }
      ]
    },
    {
      "cell_type": "markdown",
      "source": [
        "Alright, no wonder the loss is not decreasing. The model is learning a straight line separation between the two points. Why is that?\n",
        "\n",
        "Probably because we are only learning thorugh linear layers"
      ],
      "metadata": {
        "id": "4i29A1_olvZs"
      },
      "id": "4i29A1_olvZs"
    },
    {
      "cell_type": "code",
      "source": [],
      "metadata": {
        "id": "YYQ7TK6WmDap"
      },
      "id": "YYQ7TK6WmDap",
      "execution_count": null,
      "outputs": []
    }
  ],
  "metadata": {
    "kernelspec": {
      "display_name": "Python 3",
      "name": "python3"
    },
    "language_info": {
      "codemirror_mode": {
        "name": "ipython",
        "version": 3
      },
      "file_extension": ".py",
      "mimetype": "text/x-python",
      "name": "python",
      "nbconvert_exporter": "python",
      "pygments_lexer": "ipython3",
      "version": "3.12.4"
    },
    "colab": {
      "provenance": [],
      "gpuType": "T4"
    },
    "accelerator": "GPU"
  },
  "nbformat": 4,
  "nbformat_minor": 5
}