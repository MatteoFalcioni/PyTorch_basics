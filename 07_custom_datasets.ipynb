{
  "cells": [
    {
      "cell_type": "markdown",
      "source": [
        "# PyTorch Custom Datasets\n",
        "\n",
        "We've used some datasets with PyTorch before, but how do you get your own data into PyTorch?"
      ],
      "metadata": {
        "id": "3f5b61df"
      },
      "id": "3f5b61df"
    },
    {
      "cell_type": "code",
      "source": [
        "import torch\n",
        "from torch import nn\n",
        "\n",
        "torch.__version__\n",
        "\n",
        "device = \"cuda\" if torch.cuda.is_available() else \"cpu\"\n",
        "print(f\"Using device: {device}\")"
      ],
      "metadata": {
        "id": "VGBl2iH6ltQU",
        "outputId": "2e6f1d12-1c50-4923-d4f1-4e3238dcce62",
        "colab": {
          "base_uri": "https://localhost:8080/"
        }
      },
      "id": "VGBl2iH6ltQU",
      "execution_count": 1,
      "outputs": [
        {
          "output_type": "stream",
          "name": "stdout",
          "text": [
            "Using device: cpu\n"
          ]
        }
      ]
    },
    {
      "cell_type": "code",
      "source": [
        "# We'll use files contained in my Gdrive\n",
        "\n",
        "from google.colab import drive\n",
        "drive.mount('/content/drive')\n"
      ],
      "metadata": {
        "id": "kJvtbzsal558",
        "outputId": "ffdd0a7d-84bf-4406-8738-c9411d6b57df",
        "colab": {
          "base_uri": "https://localhost:8080/"
        }
      },
      "id": "kJvtbzsal558",
      "execution_count": 3,
      "outputs": [
        {
          "output_type": "stream",
          "name": "stdout",
          "text": [
            "Drive already mounted at /content/drive; to attempt to forcibly remount, call drive.mount(\"/content/drive\", force_remount=True).\n"
          ]
        }
      ]
    },
    {
      "cell_type": "code",
      "source": [],
      "metadata": {
        "id": "cW518PsOpzka"
      },
      "id": "cW518PsOpzka",
      "execution_count": null,
      "outputs": []
    }
  ],
  "metadata": {
    "kernelspec": {
      "display_name": "Python 3",
      "name": "python3"
    },
    "language_info": {
      "codemirror_mode": {
        "name": "ipython",
        "version": 3
      },
      "file_extension": ".py",
      "mimetype": "text/x-python",
      "name": "python",
      "nbconvert_exporter": "python",
      "pygments_lexer": "ipython3",
      "version": "3.12.4"
    },
    "colab": {
      "provenance": []
    }
  },
  "nbformat": 4,
  "nbformat_minor": 5
}